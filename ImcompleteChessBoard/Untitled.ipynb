{
 "cells": [
  {
   "cell_type": "code",
   "execution_count": 335,
   "metadata": {},
   "outputs": [],
   "source": [
    "%matplotlib inline"
   ]
  },
  {
   "cell_type": "code",
   "execution_count": 336,
   "metadata": {},
   "outputs": [],
   "source": [
    "import numpy as np\n",
    "import matplotlib.pyplot as plt\n",
    "import time\n",
    "import random"
   ]
  },
  {
   "cell_type": "code",
   "execution_count": 337,
   "metadata": {},
   "outputs": [],
   "source": [
    "WIDTH = 1\n",
    "NUM = 2**3\n",
    "BOARD = np.ones((NUM*WIDTH,NUM*WIDTH))\n",
    "COLOR = range(0,300,5)"
   ]
  },
  {
   "cell_type": "code",
   "execution_count": 338,
   "metadata": {},
   "outputs": [],
   "source": [
    "def fill_color(board, x, y, color):\n",
    "    for i in range((x-1)*WIDTH, x *WIDTH):\n",
    "        for j in range((y-1)*WIDTH, y*WIDTH):\n",
    "            board[i][j] = color\n",
    "    return"
   ]
  },
  {
   "cell_type": "code",
   "execution_count": 342,
   "metadata": {},
   "outputs": [],
   "source": [
    "def recursive_plot(board, x, y, color):\n",
    "    new_color = color\n",
    "    while new_color == color:\n",
    "        new_color = random.choice(COLOR)\n",
    "#     get_diff_color(board)   \n",
    "    fill_color(board, x, y, color)\n",
    "    shape = board.shape\n",
    "    if shape == (WIDTH, WIDTH):\n",
    "        return\n",
    "    if x <= shape[0]/2/WIDTH and y <= shape[1]/2/WIDTH:\n",
    "        recursive_plot(board[:shape[0]/2, :shape[0]/2], x, y, color)\n",
    "        recursive_plot(board[:shape[0]/2, shape[0]/2:], shape[0]/WIDTH/2, 1, new_color)\n",
    "        recursive_plot(board[shape[0]/2:, :shape[0]/2], 1, shape[0]/WIDTH/2, new_color)\n",
    "        recursive_plot(board[shape[0]/2:, shape[0]/2:], 1, 1, new_color)\n",
    "    if x <= shape[0]/2/WIDTH and y > shape[0]/2/WIDTH:\n",
    "        recursive_plot(board[:shape[0]/2, :shape[0]/2], shape[0]/WIDTH/2, shape[0]/WIDTH/2, new_color)\n",
    "        recursive_plot(board[:shape[0]/2, shape[0]/2:], x, y - shape[0]/WIDTH/2, color)\n",
    "        recursive_plot(board[shape[0]/2:, :shape[0]/2], 1, shape[0]/WIDTH/2, new_color)\n",
    "        recursive_plot(board[shape[0]/2:, shape[0]/2:], 1, 1, new_color)\n",
    "    if x > shape[0]/2/WIDTH and y <= shape[0]/2/WIDTH:\n",
    "        recursive_plot(board[:shape[0]/2, :shape[0]/2], shape[0]/WIDTH/2, shape[0]/WIDTH/2, new_color)\n",
    "        recursive_plot(board[:shape[0]/2, shape[0]/2:], shape[0]/WIDTH/2, 1, new_color)\n",
    "        recursive_plot(board[shape[0]/2:, :shape[0]/2], x - shape[0]/WIDTH/2, y, color)\n",
    "        recursive_plot(board[shape[0]/2:, shape[0]/2:], 1, 1,new_color)\n",
    "    if x > shape[0]/2/WIDTH and y > shape[0]/2/WIDTH:\n",
    "        recursive_plot(board[:shape[0]/2, :shape[0]/2], shape[0]/WIDTH/2, shape[0]/WIDTH/2, new_color)\n",
    "        recursive_plot(board[:shape[0]/2, shape[0]/2:], shape[0]/WIDTH/2 , 1, new_color)\n",
    "        recursive_plot(board[shape[0]/2:, :shape[0]/2], 1, shape[0]/WIDTH/2, new_color)\n",
    "        recursive_plot(board[shape[0]/2:, shape[0]/2:], x - shape[0]/WIDTH/2, y - shape[0]/WIDTH/2, color)"
   ]
  },
  {
   "cell_type": "code",
   "execution_count": 343,
   "metadata": {},
   "outputs": [],
   "source": [
    "recursive_plot(BOARD, 3,2, 0)"
   ]
  },
  {
   "cell_type": "code",
   "execution_count": 344,
   "metadata": {},
   "outputs": [
    {
     "data": {
      "image/png": "[encoded data removed]",
      "text/plain": [
       "<matplotlib.figure.Figure at 0x7f81649e9890>"
      ]
     },
     "metadata": {},
     "output_type": "display_data"
    }
   ],
   "source": [
    "plt.imshow(BOARD)\n",
    "plt.show()"
   ]
  },
  {
   "cell_type": "code",
   "execution_count": null,
   "metadata": {},
   "outputs": [],
   "source": [
    "# may be we should deliver the real loc to get the difference color"
   ]
  }
 ],
 "metadata": {
  "kernelspec": {
   "display_name": "Python 2",
   "language": "python",
   "name": "python2"
  },
  "language_info": {
   "codemirror_mode": {
    "name": "ipython",
    "version": 2
   },
   "file_extension": ".py",
   "mimetype": "text/x-python",
   "name": "python",
   "nbconvert_exporter": "python",
   "pygments_lexer": "ipython2",
   "version": "2.7.11"
  }
 },
 "nbformat": 4,
 "nbformat_minor": 2
}
