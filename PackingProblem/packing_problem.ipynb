{
 "cells": [
  {
   "cell_type": "code",
   "execution_count": 83,
   "metadata": {},
   "outputs": [
    {
     "name": "stdout",
     "output_type": "stream",
     "text": [
      "\n"
     ]
    }
   ],
   "source": [
    "from __future__ import division\n",
    "from io import open\n",
    "import sys\n",
    "import time"
   ]
  },
  {
   "cell_type": "code",
   "execution_count": 84,
   "metadata": {},
   "outputs": [],
   "source": []
  },
  {
   "cell_type": "code",
   "execution_count": 85,
   "metadata": {},
   "outputs": [],
   "source": [
    "import numpy as np\n",
    "import random\n",
    "import matplotlib.pyplot as plt"
   ]
  },
  {
   "cell_type": "code",
   "execution_count": 86,
   "metadata": {},
   "outputs": [],
   "source": [
    "%matplotlib inline"
   ]
  },
  {
   "cell_type": "code",
   "execution_count": 153,
   "metadata": {},
   "outputs": [],
   "source": [
    "class CutMethod(object):\n",
    "    ROTATION = True\n",
    "    NOT_ROTAION = False\n",
    "    AS_WIDTH = True\n",
    "    AS_LENGTH = False\n",
    "    CONVEGE = list()\n",
    "    \n",
    "    def __init__(self, space, blocks, cut_method=None):\n",
    "        self.spaces = [space]\n",
    "        self.blocks = blocks\n",
    "        \n",
    "        if bool(cut_method) == False:\n",
    "            self.DNAs = []\n",
    "            \n",
    "            DNA = [[], [], []]\n",
    "            for i in range(len(blocks)):\n",
    "                DNA[0].append(i)\n",
    "                DNA[1].append(self.AS_WIDTH)\n",
    "                DNA[2].append(self.NOT_ROTAION)\n",
    "            self.DNAs.append(DNA)\n",
    "            \n",
    "            DNA = [[], [], []]\n",
    "            for i in range(len(blocks)):\n",
    "                DNA[0].append(i)\n",
    "                DNA[1].append(self.AS_LENGTH)\n",
    "                DNA[2].append(self.ROTATION)\n",
    "            self.DNAs.append(DNA)\n",
    "    \n",
    "    def cut_block(self, block, spaces):\n",
    "        blocks = self.blocks    \n",
    "        split_method = block[1]\n",
    "        rotation = block[2]\n",
    "        # if rotation w and l need to exchange their value\n",
    "        w, l = blocks[block[0]] if rotation == self.NOT_ROTAION else blocks[block[0]][::-1]\n",
    "        \n",
    "        loc = None\n",
    "        for it, space in enumerate(spaces):\n",
    "            W, L, x, y = space\n",
    "            \n",
    "            if w <= W and l <= L:\n",
    "                loc = (x, y)\n",
    "                \n",
    "                if split_method == self.AS_WIDTH:\n",
    "                    s1 = (W, L-l) + (x, y+l) # x is the W dim loc and y is the L dim loc\n",
    "                    s2 = (W-w, l) + (x+w, y)\n",
    "                    spaces[it:it+1] = [s1, s2]\n",
    "                \n",
    "                else:\n",
    "                    s1 = (W-w, L) + (x+w, y)\n",
    "                    s2 = (w, L-l) + (x, y+l)\n",
    "                    spaces[it:it+1] = [s1, s2]\n",
    "                \n",
    "                break\n",
    "                \n",
    "        new_spaces = []\n",
    "        \n",
    "        for x in spaces:\n",
    "            if x[0] != 0 and x[1] != 0:\n",
    "                new_spaces.append(x)\n",
    "        \n",
    "        return new_spaces, loc # spaces should delete blocks which's dim is 0\n",
    "    \n",
    "    def evalue(self, DNA):\n",
    "        \n",
    "        spaces = self.spaces[:]\n",
    "        spaces[0] += (0, 0)\n",
    "        loc = [None]*len(self.blocks)\n",
    "        \n",
    "        DNA = [(x, y, z) for x,y,z in zip(DNA[0],DNA[1],DNA[2])] # nothing special don't mind\n",
    "        \n",
    "        for it, block in enumerate(DNA):\n",
    "            spaces, loc[it] = self.cut_block(block, spaces)\n",
    "        \n",
    "        \n",
    "        left_area = sum([x*y for x, y, _, _ in spaces])\n",
    "        return left_area, spaces, loc\n",
    "    \n",
    "    \n",
    "    def get_next_generation(self, n=10):\n",
    "        DNAs = self.DNAs\n",
    "        \n",
    "        alive_DNAs = self.select_individual(DNAs[:])\n",
    "        new_DNAs = self.mutation(alive_DNAs[:]) + self.sexual(alive_DNAs[:])\n",
    "        \n",
    "        self.DNAs = alive_DNAs + new_DNAs\n",
    "        self.delete_same()\n",
    "    \n",
    "    def select_individual(self, DNAs, n=10, prob=0.3):\n",
    "        evalue = self.evalue\n",
    "\n",
    "        compare = lambda x, y: int(evalue(x)[0] > evalue(y)[0]) - 1\n",
    "        \n",
    "        DNAs = sorted(DNAs, compare) \n",
    "        must_alive = DNAs[:n]\n",
    "        \n",
    "        self.CONVEGE.append(evalue(DNAs[0])[0])\n",
    "        \n",
    "        bad_DNA = []\n",
    "        for DNA in DNAs[n:]:\n",
    "            if random.random() < prob:\n",
    "                bad_DNA.append(DNA)\n",
    "        \n",
    "        return must_alive + bad_DNA\n",
    "        \n",
    "    def mutation(self, DNAs, prob=0.55):\n",
    "        # copy DNAs\n",
    "        for i in range(len(DNAs)):\n",
    "            DNAs[i] = DNAs[i][:]\n",
    "            for j in range(len(DNAs[i])):\n",
    "                DNAs[i][j] = DNAs[i][j][:]\n",
    "        \n",
    "        \n",
    "        _range = range(len(DNAs[0][0]))\n",
    "        for i in range(len(DNAs)):\n",
    "            if random.random() < prob:\n",
    "                k, j = random.sample(_range, 2)\n",
    "                DNAs[i][0][k], DNAs[i][0][j]= DNAs[i][0][j], DNAs[i][0][k] \n",
    "                \n",
    "            for it in range(len(DNAs[i][0])):\n",
    "                if random.random() < prob:\n",
    "                    DNAs[i][1][it] = not DNAs[i][1][it]\n",
    "                    \n",
    "                if random.random() < prob:\n",
    "                    DNAs[i][2][it] = not DNAs[i][2][it]\n",
    "        \n",
    "        return DNAs\n",
    "    \n",
    "    def sexual(self, DNAs):\n",
    "        \n",
    "        for i in range(len(DNAs)):\n",
    "            DNAs[i] = DNAs[i][:]\n",
    "            for j in range(len(DNAs[i])):\n",
    "                DNAs[i][j] = DNAs[i][j][:]\n",
    "        \n",
    "        \n",
    "        _range = range(len(DNAs[0][0]))\n",
    "        n = len(DNAs)\n",
    "        select_num = int(n/4)\n",
    "        \n",
    "        sex_DNAs = random.sample(DNAs, select_num)\n",
    "        \n",
    "        if bool(sex_DNAs) == False:\n",
    "            return []\n",
    "        \n",
    "        new_DNAs = []\n",
    "        for DNA in DNAs:\n",
    "            \n",
    "            DNA2 = random.choice(sex_DNAs)\n",
    "            index = random.choice(_range)\n",
    "            \n",
    "            g1 = DNA[0][index]\n",
    "            g2 = DNA2[0][index]\n",
    "            \n",
    "            for i in range(len(DNA[0])):\n",
    "                if DNA[0][i] == g2:\n",
    "                    DNA[0][i] = DNA[0][index]\n",
    "                    DNA[1][i] = DNA[1][index]\n",
    "                    DNA[2][i] = DNA[2][index]\n",
    "                    break\n",
    "                    \n",
    "            for i in range(len(DNA2[0])):\n",
    "                if DNA2[0][i] == g1:\n",
    "                    DNA2[0][i] = DNA2[0][index]\n",
    "                    DNA2[1][i] = DNA2[1][index]\n",
    "                    DNA2[2][i] = DNA2[2][index]\n",
    "                    break\n",
    "            \n",
    "            DNA[0][index], DNA2[0][index] = DNA2[0][index], DNA[0][index]\n",
    "            DNA[1][index], DNA2[1][index] = DNA2[1][index], DNA[1][index]\n",
    "            DNA[2][index], DNA2[2][index] = DNA2[2][index], DNA[2][index]\n",
    "            \n",
    "            new_DNAs.append(DNA)\n",
    "            new_DNAs.append(DNA2)\n",
    "        \n",
    "        return new_DNAs\n",
    "    \n",
    "    def delete_same(self):\n",
    "        DNAs = self.DNAs\n",
    "        \n",
    "        new_DNAs = []\n",
    "        for i in DNAs:\n",
    "            if i not in new_DNAs:\n",
    "                new_DNAs.append(i)\n",
    "                \n",
    "        DNAs[:] = new_DNAs[:]\n",
    "        \n",
    "    def plot(self, k):\n",
    "        left, s, loc =  packing.evalue(packing.DNAs[k])\n",
    "        \n",
    "        color = range(1, len(loc)+1)\n",
    "        random.shuffle(color)\n",
    "        \n",
    "        pi = np.zeros(self.spaces[0])\n",
    "        for i, d in enumerate(packing.DNAs[k][0]):\n",
    "            if loc[i] != None:\n",
    "                x, y = loc[i]\n",
    "                \n",
    "            else:\n",
    "                continue\n",
    "                \n",
    "            w,l = packing.blocks[d] if packing.DNAs[k][2][i] == self.NOT_ROTAION else packing.blocks[d][::-1]\n",
    "            \n",
    "            for t in range(x,x+w):\n",
    "                for j in range(y,y+l):\n",
    "                    pi[t][j] = color[i]\n",
    "        plt.imshow(pi)\n",
    "        plt.show()\n",
    "        area = self.spaces[0][1] * self.spaces[0][0]\n",
    "        print \"Usage %.3f \" % ((area - left)/area * 100) + \" %\""
   ]
  },
  {
   "cell_type": "code",
   "execution_count": 175,
   "metadata": {},
   "outputs": [
    {
     "name": "stdout",
     "output_type": "stream",
     "text": [
      "[(21, 101), (17, 113), (71, 25), (22, 59), (22, 57), (15, 75), (72, 15), (65, 16), (12, 80), (16, 57), (11, 73), (16, 46), (38, 18), (11, 56), (13, 47), (30, 20), (17, 34), (62, 9), (14, 37), (16, 32), (51, 10), (9, 55), (13, 36), (10, 45), (22, 20), (10, 44), (11, 37), (36, 11), (10, 39), (42, 9), (36, 10), (13, 27), (9, 39), (38, 9), (8, 42), (39, 8), (12, 25), (25, 11), (33, 8), (8, 31), (35, 7), (30, 8), (7, 33), (25, 9), (28, 8), (13, 17), (8, 27), (25, 8), (33, 6), (14, 14), (6, 32), (27, 7), (9, 21), (26, 7), (7, 26), (12, 15), (8, 22), (19, 9), (17, 10), (27, 6), (32, 5), (13, 12), (5, 31), (9, 17), (29, 5), (6, 24), (5, 28), (5, 28), (15, 9), (9, 15), (27, 5), (11, 12), (6, 21), (5, 25), (8, 15), (8, 15), (17, 7), (6, 19), (10, 11), (10, 11), (10, 11), (11, 10), (4, 27), (4, 27), (9, 12), (12, 9), (5, 20), (11, 9), (7, 14), (12, 8), (8, 12), (10, 9), (11, 8), (8, 11), (17, 5), (12, 7), (9, 9), (16, 5), (6, 13), (6, 13), (7, 11), (19, 4), (4, 19), (5, 15), (18, 4), (10, 7), (14, 5), (6, 11), (12, 5), (10, 6), (6, 10), (6, 10), (3, 20), (7, 8), (3, 18), (17, 3), (16, 3), (12, 4), (3, 16), (8, 6), (9, 5), (6, 7), (7, 6), (6, 7), (14, 3), (4, 10), (10, 4), (13, 3), (3, 13), (12, 3), (3, 12), (6, 6), (5, 7), (7, 5), (5, 7), (3, 11), (3, 11), (10, 3), (3, 10), (3, 10), (10, 3), (4, 7), (3, 9), (3, 9), (2, 13), (5, 5), (6, 4), (6, 4), (8, 3), (2, 11), (3, 7), (2, 10), (3, 6), (6, 3), (2, 9), (3, 6), (2, 9), (2, 8), (2, 8), (5, 3), (2, 7), (7, 2), (2, 6), (6, 2), (6, 2), (6, 2), (5, 2), (5, 2), (3, 3), (3, 3), (4, 2), (2, 4), (2, 4), (4, 2), (3, 2), (3, 2), (1, 6), (1, 6), (1, 5), (1, 4), (2, 2), (1, 4), (4, 1), (1, 4), (1, 3), (1, 2), (2, 1), (2, 1), (2, 1), (2, 1), (1, 2), (1, 2), (2, 1), (2, 1), (1, 1), (1, 1), (1, 1)]\n"
     ]
    }
   ],
   "source": [
    "compare = lambda x, y: int(x[0]*x[1] < y[0]*y[1]) - 1\n",
    "lst = []\n",
    "with open('lw1972.txt') as f:\n",
    "    lst = f.readlines()\n",
    "    lst = [i.strip().split() for i in lst]\n",
    "    lst = [(int(x[0]), int (x[1])) for x in lst]\n",
    "\n",
    "lst = sorted(lst, compare)\n",
    "print lst"
   ]
  },
  {
   "cell_type": "code",
   "execution_count": 176,
   "metadata": {},
   "outputs": [],
   "source": [
    "packing = CutMethod((160, 240), lst)"
   ]
  },
  {
   "cell_type": "code",
   "execution_count": null,
   "metadata": {},
   "outputs": [],
   "source": []
  },
  {
   "cell_type": "code",
   "execution_count": 177,
   "metadata": {},
   "outputs": [
    {
     "name": "stdout",
     "output_type": "stream",
     "text": [
      "[[0, 1, 2, 3, 4, 5, 6, 7, 8, 9, 10, 11, 12, 13, 14, 15, 16, 17, 18, 19, 20, 21, 22, 23, 24, 25, 26, 27, 28, 29, 30, 31, 32, 33, 34, 35, 36, 37, 38, 39, 40, 41, 42, 43, 44, 45, 46, 47, 48, 49, 50, 51, 52, 53, 54, 55, 56, 57, 58, 59, 60, 61, 62, 63, 64, 65, 66, 67, 68, 69, 70, 71, 72, 73, 74, 75, 76, 77, 78, 79, 80, 81, 82, 83, 84, 85, 86, 87, 88, 89, 90, 91, 92, 93, 94, 95, 96, 97, 98, 99, 100, 101, 102, 103, 104, 105, 106, 107, 108, 109, 110, 111, 112, 113, 114, 115, 116, 117, 118, 119, 120, 121, 122, 123, 124, 125, 126, 127, 128, 129, 130, 131, 132, 133, 134, 135, 136, 137, 138, 139, 140, 141, 142, 143, 144, 145, 146, 147, 148, 149, 150, 151, 152, 153, 154, 155, 156, 157, 158, 159, 160, 161, 162, 163, 164, 165, 166, 167, 168, 169, 170, 171, 172, 173, 174, 175, 176, 177, 178, 179, 180, 181, 182, 183, 184, 185, 186, 187, 188, 189, 190, 191, 192, 193, 194, 195, 196], [True, True, True, True, True, True, True, True, True, True, True, True, True, True, True, True, True, True, True, True, True, True, True, True, True, True, True, True, True, True, True, True, True, True, True, True, True, True, True, True, True, True, True, True, True, True, True, True, True, True, True, True, True, True, True, True, True, True, True, True, True, True, True, True, True, True, True, True, True, True, True, True, True, True, True, True, True, True, True, True, True, True, True, True, True, True, True, True, True, True, True, True, True, True, True, True, True, True, True, True, True, True, True, True, True, True, True, True, True, True, True, True, True, True, True, True, True, True, True, True, True, True, True, True, True, True, True, True, True, True, True, True, True, True, True, True, True, True, True, True, True, True, True, True, True, True, True, True, True, True, True, True, True, True, True, True, True, True, True, True, True, True, True, True, True, True, True, True, True, True, True, True, True, True, True, True, True, True, True, True, True, True, True, True, True, True, True, True, True, True, True, True, True, True, True, True, True], [False, False, False, False, False, False, False, False, False, False, False, False, False, False, False, False, False, False, False, False, False, False, False, False, False, False, False, False, False, False, False, False, False, False, False, False, False, False, False, False, False, False, False, False, False, False, False, False, False, False, False, False, False, False, False, False, False, False, False, False, False, False, False, False, False, False, False, False, False, False, False, False, False, False, False, False, False, False, False, False, False, False, False, False, False, False, False, False, False, False, False, False, False, False, False, False, False, False, False, False, False, False, False, False, False, False, False, False, False, False, False, False, False, False, False, False, False, False, False, False, False, False, False, False, False, False, False, False, False, False, False, False, False, False, False, False, False, False, False, False, False, False, False, False, False, False, False, False, False, False, False, False, False, False, False, False, False, False, False, False, False, False, False, False, False, False, False, False, False, False, False, False, False, False, False, False, False, False, False, False, False, False, False, False, False, False, False, False, False, False, False, False, False, False, False, False, False]]\n",
      "[[0, 1, 2, 3, 4, 5, 6, 7, 8, 9, 10, 11, 12, 13, 14, 15, 16, 17, 18, 19, 20, 21, 22, 23, 24, 25, 26, 27, 28, 29, 30, 31, 32, 33, 34, 35, 36, 37, 38, 39, 40, 41, 42, 43, 44, 45, 46, 47, 48, 49, 50, 51, 52, 53, 54, 55, 56, 57, 58, 59, 60, 61, 62, 63, 64, 65, 66, 67, 68, 69, 70, 71, 72, 73, 74, 75, 76, 77, 78, 79, 80, 81, 82, 83, 84, 85, 86, 87, 88, 89, 90, 91, 92, 93, 94, 95, 96, 97, 98, 99, 100, 101, 102, 103, 104, 105, 106, 107, 108, 109, 110, 111, 112, 113, 114, 115, 116, 117, 118, 119, 120, 121, 122, 123, 124, 125, 126, 127, 128, 129, 130, 131, 132, 133, 134, 135, 136, 137, 138, 139, 140, 141, 142, 143, 144, 145, 146, 147, 148, 149, 150, 151, 152, 153, 154, 155, 156, 157, 158, 159, 160, 161, 162, 163, 164, 165, 166, 167, 168, 169, 170, 171, 172, 173, 174, 175, 176, 177, 178, 179, 180, 181, 182, 183, 184, 185, 186, 187, 188, 189, 190, 191, 192, 193, 194, 195, 196], [False, False, False, False, False, False, False, False, False, False, False, False, False, False, False, False, False, False, False, False, False, False, False, False, False, False, False, False, False, False, False, False, False, False, False, False, False, False, False, False, False, False, False, False, False, False, False, False, False, False, False, False, False, False, False, False, False, False, False, False, False, False, False, False, False, False, False, False, False, False, False, False, False, False, False, False, False, False, False, False, False, False, False, False, False, False, False, False, False, False, False, False, False, False, False, False, False, False, False, False, False, False, False, False, False, False, False, False, False, False, False, False, False, False, False, False, False, False, False, False, False, False, False, False, False, False, False, False, False, False, False, False, False, False, False, False, False, False, False, False, False, False, False, False, False, False, False, False, False, False, False, False, False, False, False, False, False, False, False, False, False, False, False, False, False, False, False, False, False, False, False, False, False, False, False, False, False, False, False, False, False, False, False, False, False, False, False, False, False, False, False, False, False, False, False, False, False], [True, True, True, True, True, True, True, True, True, True, True, True, True, True, True, True, True, True, True, True, True, True, True, True, True, True, True, True, True, True, True, True, True, True, True, True, True, True, True, True, True, True, True, True, True, True, True, True, True, True, True, True, True, True, True, True, True, True, True, True, True, True, True, True, True, True, True, True, True, True, True, True, True, True, True, True, True, True, True, True, True, True, True, True, True, True, True, True, True, True, True, True, True, True, True, True, True, True, True, True, True, True, True, True, True, True, True, True, True, True, True, True, True, True, True, True, True, True, True, True, True, True, True, True, True, True, True, True, True, True, True, True, True, True, True, True, True, True, True, True, True, True, True, True, True, True, True, True, True, True, True, True, True, True, True, True, True, True, True, True, True, True, True, True, True, True, True, True, True, True, True, True, True, True, True, True, True, True, True, True, True, True, True, True, True, True, True, True, True, True, True, True, True, True, True, True, True]]\n"
     ]
    }
   ],
   "source": [
    "for i in packing.DNAs:\n",
    "    print i"
   ]
  },
  {
   "cell_type": "code",
   "execution_count": 193,
   "metadata": {
    "scrolled": true
   },
   "outputs": [
    {
     "name": "stdout",
     "output_type": "stream",
     "text": [
      "2460.535217\n",
      "0 1 2 3 4 5 6 7 8 9 10 11 12 13 14 15 16 17 18 19 20 21 22 23 24 25 26 27 28 29 30 31 32 33 34 35 36 37 38 39 40 41 42 43 44 45 46 47 48 49 50 51 52"
     ]
    },
    {
     "ename": "KeyboardInterrupt",
     "evalue": "",
     "output_type": "error",
     "traceback": [
      "\u001b[0;31m---------------------------------------------------------------------------\u001b[0m",
      "\u001b[0;31mKeyboardInterrupt\u001b[0m                         Traceback (most recent call last)",
      "\u001b[0;32m<ipython-input-193-0041c28180c7>\u001b[0m in \u001b[0;36m<module>\u001b[0;34m()\u001b[0m\n\u001b[1;32m      2\u001b[0m \u001b[0mdata\u001b[0m \u001b[0;34m=\u001b[0m \u001b[0;34m[\u001b[0m\u001b[0;34m]\u001b[0m\u001b[0;34m\u001b[0m\u001b[0m\n\u001b[1;32m      3\u001b[0m \u001b[0;32mfor\u001b[0m \u001b[0mi\u001b[0m \u001b[0;32min\u001b[0m \u001b[0mrange\u001b[0m\u001b[0;34m(\u001b[0m\u001b[0;36m2000\u001b[0m\u001b[0;34m)\u001b[0m\u001b[0;34m:\u001b[0m\u001b[0;34m\u001b[0m\u001b[0m\n\u001b[0;32m----> 4\u001b[0;31m     \u001b[0mpacking\u001b[0m\u001b[0;34m.\u001b[0m\u001b[0mget_next_generation\u001b[0m\u001b[0;34m(\u001b[0m\u001b[0;34m)\u001b[0m\u001b[0;34m\u001b[0m\u001b[0m\n\u001b[0m\u001b[1;32m      5\u001b[0m     \u001b[0;32mprint\u001b[0m \u001b[0mi\u001b[0m\u001b[0;34m,\u001b[0m\u001b[0;34m\u001b[0m\u001b[0m\n\u001b[1;32m      6\u001b[0m \u001b[0;32mprint\u001b[0m \u001b[0mtime\u001b[0m\u001b[0;34m.\u001b[0m\u001b[0mclock\u001b[0m\u001b[0;34m(\u001b[0m\u001b[0;34m)\u001b[0m\u001b[0;34m\u001b[0m\u001b[0m\n",
      "\u001b[0;32m<ipython-input-153-284b4766499c>\u001b[0m in \u001b[0;36mget_next_generation\u001b[0;34m(self, n)\u001b[0m\n\u001b[1;32m     80\u001b[0m         \u001b[0mDNAs\u001b[0m \u001b[0;34m=\u001b[0m \u001b[0mself\u001b[0m\u001b[0;34m.\u001b[0m\u001b[0mDNAs\u001b[0m\u001b[0;34m\u001b[0m\u001b[0m\n\u001b[1;32m     81\u001b[0m \u001b[0;34m\u001b[0m\u001b[0m\n\u001b[0;32m---> 82\u001b[0;31m         \u001b[0malive_DNAs\u001b[0m \u001b[0;34m=\u001b[0m \u001b[0mself\u001b[0m\u001b[0;34m.\u001b[0m\u001b[0mselect_individual\u001b[0m\u001b[0;34m(\u001b[0m\u001b[0mDNAs\u001b[0m\u001b[0;34m[\u001b[0m\u001b[0;34m:\u001b[0m\u001b[0;34m]\u001b[0m\u001b[0;34m)\u001b[0m\u001b[0;34m\u001b[0m\u001b[0m\n\u001b[0m\u001b[1;32m     83\u001b[0m         \u001b[0mnew_DNAs\u001b[0m \u001b[0;34m=\u001b[0m \u001b[0mself\u001b[0m\u001b[0;34m.\u001b[0m\u001b[0mmutation\u001b[0m\u001b[0;34m(\u001b[0m\u001b[0malive_DNAs\u001b[0m\u001b[0;34m[\u001b[0m\u001b[0;34m:\u001b[0m\u001b[0;34m]\u001b[0m\u001b[0;34m)\u001b[0m \u001b[0;34m+\u001b[0m \u001b[0mself\u001b[0m\u001b[0;34m.\u001b[0m\u001b[0msexual\u001b[0m\u001b[0;34m(\u001b[0m\u001b[0malive_DNAs\u001b[0m\u001b[0;34m[\u001b[0m\u001b[0;34m:\u001b[0m\u001b[0;34m]\u001b[0m\u001b[0;34m)\u001b[0m\u001b[0;34m\u001b[0m\u001b[0m\n\u001b[1;32m     84\u001b[0m \u001b[0;34m\u001b[0m\u001b[0m\n",
      "\u001b[0;32m<ipython-input-153-284b4766499c>\u001b[0m in \u001b[0;36mselect_individual\u001b[0;34m(self, DNAs, n, prob)\u001b[0m\n\u001b[1;32m     91\u001b[0m         \u001b[0mcompare\u001b[0m \u001b[0;34m=\u001b[0m \u001b[0;32mlambda\u001b[0m \u001b[0mx\u001b[0m\u001b[0;34m,\u001b[0m \u001b[0my\u001b[0m\u001b[0;34m:\u001b[0m \u001b[0mint\u001b[0m\u001b[0;34m(\u001b[0m\u001b[0mevalue\u001b[0m\u001b[0;34m(\u001b[0m\u001b[0mx\u001b[0m\u001b[0;34m)\u001b[0m\u001b[0;34m[\u001b[0m\u001b[0;36m0\u001b[0m\u001b[0;34m]\u001b[0m \u001b[0;34m>\u001b[0m \u001b[0mevalue\u001b[0m\u001b[0;34m(\u001b[0m\u001b[0my\u001b[0m\u001b[0;34m)\u001b[0m\u001b[0;34m[\u001b[0m\u001b[0;36m0\u001b[0m\u001b[0;34m]\u001b[0m\u001b[0;34m)\u001b[0m \u001b[0;34m-\u001b[0m \u001b[0;36m1\u001b[0m\u001b[0;34m\u001b[0m\u001b[0m\n\u001b[1;32m     92\u001b[0m \u001b[0;34m\u001b[0m\u001b[0m\n\u001b[0;32m---> 93\u001b[0;31m         \u001b[0mDNAs\u001b[0m \u001b[0;34m=\u001b[0m \u001b[0msorted\u001b[0m\u001b[0;34m(\u001b[0m\u001b[0mDNAs\u001b[0m\u001b[0;34m,\u001b[0m \u001b[0mcompare\u001b[0m\u001b[0;34m)\u001b[0m\u001b[0;34m\u001b[0m\u001b[0m\n\u001b[0m\u001b[1;32m     94\u001b[0m         \u001b[0mmust_alive\u001b[0m \u001b[0;34m=\u001b[0m \u001b[0mDNAs\u001b[0m\u001b[0;34m[\u001b[0m\u001b[0;34m:\u001b[0m\u001b[0mn\u001b[0m\u001b[0;34m]\u001b[0m\u001b[0;34m\u001b[0m\u001b[0m\n\u001b[1;32m     95\u001b[0m \u001b[0;34m\u001b[0m\u001b[0m\n",
      "\u001b[0;32m<ipython-input-153-284b4766499c>\u001b[0m in \u001b[0;36m<lambda>\u001b[0;34m(x, y)\u001b[0m\n\u001b[1;32m     89\u001b[0m         \u001b[0mevalue\u001b[0m \u001b[0;34m=\u001b[0m \u001b[0mself\u001b[0m\u001b[0;34m.\u001b[0m\u001b[0mevalue\u001b[0m\u001b[0;34m\u001b[0m\u001b[0m\n\u001b[1;32m     90\u001b[0m \u001b[0;34m\u001b[0m\u001b[0m\n\u001b[0;32m---> 91\u001b[0;31m         \u001b[0mcompare\u001b[0m \u001b[0;34m=\u001b[0m \u001b[0;32mlambda\u001b[0m \u001b[0mx\u001b[0m\u001b[0;34m,\u001b[0m \u001b[0my\u001b[0m\u001b[0;34m:\u001b[0m \u001b[0mint\u001b[0m\u001b[0;34m(\u001b[0m\u001b[0mevalue\u001b[0m\u001b[0;34m(\u001b[0m\u001b[0mx\u001b[0m\u001b[0;34m)\u001b[0m\u001b[0;34m[\u001b[0m\u001b[0;36m0\u001b[0m\u001b[0;34m]\u001b[0m \u001b[0;34m>\u001b[0m \u001b[0mevalue\u001b[0m\u001b[0;34m(\u001b[0m\u001b[0my\u001b[0m\u001b[0;34m)\u001b[0m\u001b[0;34m[\u001b[0m\u001b[0;36m0\u001b[0m\u001b[0;34m]\u001b[0m\u001b[0;34m)\u001b[0m \u001b[0;34m-\u001b[0m \u001b[0;36m1\u001b[0m\u001b[0;34m\u001b[0m\u001b[0m\n\u001b[0m\u001b[1;32m     92\u001b[0m \u001b[0;34m\u001b[0m\u001b[0m\n\u001b[1;32m     93\u001b[0m         \u001b[0mDNAs\u001b[0m \u001b[0;34m=\u001b[0m \u001b[0msorted\u001b[0m\u001b[0;34m(\u001b[0m\u001b[0mDNAs\u001b[0m\u001b[0;34m,\u001b[0m \u001b[0mcompare\u001b[0m\u001b[0;34m)\u001b[0m\u001b[0;34m\u001b[0m\u001b[0m\n",
      "\u001b[0;32m<ipython-input-153-284b4766499c>\u001b[0m in \u001b[0;36mevalue\u001b[0;34m(self, DNA)\u001b[0m\n\u001b[1;32m     70\u001b[0m \u001b[0;34m\u001b[0m\u001b[0m\n\u001b[1;32m     71\u001b[0m         \u001b[0;32mfor\u001b[0m \u001b[0mit\u001b[0m\u001b[0;34m,\u001b[0m \u001b[0mblock\u001b[0m \u001b[0;32min\u001b[0m \u001b[0menumerate\u001b[0m\u001b[0;34m(\u001b[0m\u001b[0mDNA\u001b[0m\u001b[0;34m)\u001b[0m\u001b[0;34m:\u001b[0m\u001b[0;34m\u001b[0m\u001b[0m\n\u001b[0;32m---> 72\u001b[0;31m             \u001b[0mspaces\u001b[0m\u001b[0;34m,\u001b[0m \u001b[0mloc\u001b[0m\u001b[0;34m[\u001b[0m\u001b[0mit\u001b[0m\u001b[0;34m]\u001b[0m \u001b[0;34m=\u001b[0m \u001b[0mself\u001b[0m\u001b[0;34m.\u001b[0m\u001b[0mcut_block\u001b[0m\u001b[0;34m(\u001b[0m\u001b[0mblock\u001b[0m\u001b[0;34m,\u001b[0m \u001b[0mspaces\u001b[0m\u001b[0;34m)\u001b[0m\u001b[0;34m\u001b[0m\u001b[0m\n\u001b[0m\u001b[1;32m     73\u001b[0m \u001b[0;34m\u001b[0m\u001b[0m\n\u001b[1;32m     74\u001b[0m \u001b[0;34m\u001b[0m\u001b[0m\n",
      "\u001b[0;32m<ipython-input-153-284b4766499c>\u001b[0m in \u001b[0;36mcut_block\u001b[0;34m(self, block, spaces)\u001b[0m\n\u001b[1;32m     57\u001b[0m         \u001b[0;32mfor\u001b[0m \u001b[0mx\u001b[0m \u001b[0;32min\u001b[0m \u001b[0mspaces\u001b[0m\u001b[0;34m:\u001b[0m\u001b[0;34m\u001b[0m\u001b[0m\n\u001b[1;32m     58\u001b[0m             \u001b[0;32mif\u001b[0m \u001b[0mx\u001b[0m\u001b[0;34m[\u001b[0m\u001b[0;36m0\u001b[0m\u001b[0;34m]\u001b[0m \u001b[0;34m!=\u001b[0m \u001b[0;36m0\u001b[0m \u001b[0;32mand\u001b[0m \u001b[0mx\u001b[0m\u001b[0;34m[\u001b[0m\u001b[0;36m1\u001b[0m\u001b[0;34m]\u001b[0m \u001b[0;34m!=\u001b[0m \u001b[0;36m0\u001b[0m\u001b[0;34m:\u001b[0m\u001b[0;34m\u001b[0m\u001b[0m\n\u001b[0;32m---> 59\u001b[0;31m                 \u001b[0mnew_spaces\u001b[0m\u001b[0;34m.\u001b[0m\u001b[0mappend\u001b[0m\u001b[0;34m(\u001b[0m\u001b[0mx\u001b[0m\u001b[0;34m)\u001b[0m\u001b[0;34m\u001b[0m\u001b[0m\n\u001b[0m\u001b[1;32m     60\u001b[0m \u001b[0;34m\u001b[0m\u001b[0m\n\u001b[1;32m     61\u001b[0m         \u001b[0;32mreturn\u001b[0m \u001b[0mnew_spaces\u001b[0m\u001b[0;34m,\u001b[0m \u001b[0mloc\u001b[0m \u001b[0;31m# spaces should delete blocks which's dim is 0\u001b[0m\u001b[0;34m\u001b[0m\u001b[0m\n",
      "\u001b[0;31mKeyboardInterrupt\u001b[0m: "
     ]
    }
   ],
   "source": [
    "print time.clock()\n",
    "data = []\n",
    "for i in range(2000):\n",
    "    packing.get_next_generation()\n",
    "    print i,\n",
    "print time.clock()"
   ]
  },
  {
   "cell_type": "code",
   "execution_count": 194,
   "metadata": {},
   "outputs": [
    {
     "data": {
      "text/plain": [
       "[<matplotlib.lines.Line2D at 0x7f147f99bd90>]"
      ]
     },
     "execution_count": 194,
     "metadata": {},
     "output_type": "execute_result"
    },
    {
     "name": "stdout",
     "output_type": "stream",
     "text": [
      "\n"
     ]
    },
    {
     "data": {
      "image/png": "[encoded data removed]",
      "text/plain": [
       "<matplotlib.figure.Figure at 0x7f147f84d190>"
      ]
     },
     "metadata": {},
     "output_type": "display_data"
    }
   ],
   "source": [
    "plt.plot(range(len(packing.CONVEGE)),packing.CONVEGE)"
   ]
  },
  {
   "cell_type": "code",
   "execution_count": 189,
   "metadata": {
    "scrolled": false
   },
   "outputs": [
    {
     "data": {
      "image/png": "[encoded data removed]",
      "text/plain": [
       "<matplotlib.figure.Figure at 0x7f147fd88a90>"
      ]
     },
     "metadata": {},
     "output_type": "display_data"
    },
    {
     "name": "stdout",
     "output_type": "stream",
     "text": [
      "Usage 98.792  %\n"
     ]
    },
    {
     "data": {
      "image/png": "[encoded data removed]",
      "text/plain": [
       "<matplotlib.figure.Figure at 0x7f147f7a4450>"
      ]
     },
     "metadata": {},
     "output_type": "display_data"
    },
    {
     "name": "stdout",
     "output_type": "stream",
     "text": [
      "Usage 98.792  %\n"
     ]
    },
    {
     "data": {
      "image/png": "[encoded data removed]",
      "text/plain": [
       "<matplotlib.figure.Figure at 0x7f147f958890>"
      ]
     },
     "metadata": {},
     "output_type": "display_data"
    },
    {
     "name": "stdout",
     "output_type": "stream",
     "text": [
      "Usage 98.792  %\n"
     ]
    },
    {
     "data": {
      "image/png": "[encoded data removed]",
      "text/plain": [
       "<matplotlib.figure.Figure at 0x7f14802d5d90>"
      ]
     },
     "metadata": {},
     "output_type": "display_data"
    },
    {
     "name": "stdout",
     "output_type": "stream",
     "text": [
      "Usage 98.792  %\n"
     ]
    },
    {
     "data": {
      "image/png": "[encoded data removed]",
      "text/plain": [
       "<matplotlib.figure.Figure at 0x7f1480617a10>"
      ]
     },
     "metadata": {},
     "output_type": "display_data"
    },
    {
     "name": "stdout",
     "output_type": "stream",
     "text": [
      "Usage 98.792  %\n"
     ]
    },
    {
     "data": {
      "image/png": "[encoded data removed]",
      "text/plain": [
       "<matplotlib.figure.Figure at 0x7f147ff74c10>"
      ]
     },
     "metadata": {},
     "output_type": "display_data"
    },
    {
     "name": "stdout",
     "output_type": "stream",
     "text": [
      "Usage 98.792  %\n"
     ]
    },
    {
     "data": {
      "image/png": "[encoded data removed]",
      "text/plain": [
       "<matplotlib.figure.Figure at 0x7f147fdd9510>"
      ]
     },
     "metadata": {},
     "output_type": "display_data"
    },
    {
     "name": "stdout",
     "output_type": "stream",
     "text": [
      "Usage 98.792  %\n"
     ]
    },
    {
     "data": {
      "image/png": "[encoded data removed]",
      "text/plain": [
       "<matplotlib.figure.Figure at 0x7f148038a390>"
      ]
     },
     "metadata": {},
     "output_type": "display_data"
    },
    {
     "name": "stdout",
     "output_type": "stream",
     "text": [
      "Usage 98.792  %\n"
     ]
    },
    {
     "data": {
      "image/png": "[encoded data removed]",
      "text/plain": [
       "<matplotlib.figure.Figure at 0x7f147f8ce6d0>"
      ]
     },
     "metadata": {},
     "output_type": "display_data"
    },
    {
     "name": "stdout",
     "output_type": "stream",
     "text": [
      "Usage 98.792  %\n"
     ]
    },
    {
     "data": {
      "image/png": "[encoded data removed]",
      "text/plain": [
       "<matplotlib.figure.Figure at 0x7f147fb55350>"
      ]
     },
     "metadata": {},
     "output_type": "display_data"
    },
    {
     "name": "stdout",
     "output_type": "stream",
     "text": [
      "Usage 98.792  %\n"
     ]
    }
   ],
   "source": [
    "for i in range(10):\n",
    "    packing.plot(i)"
   ]
  },
  {
   "cell_type": "code",
   "execution_count": 190,
   "metadata": {},
   "outputs": [
    {
     "data": {
      "text/plain": [
       "<matplotlib.figure.Figure at 0x7f147f7cea10>"
      ]
     },
     "metadata": {},
     "output_type": "display_data"
    }
   ],
   "source": [
    "fig = plt.figure()"
   ]
  },
  {
   "cell_type": "code",
   "execution_count": null,
   "metadata": {},
   "outputs": [],
   "source": []
  },
  {
   "cell_type": "code",
   "execution_count": 192,
   "metadata": {},
   "outputs": [
    {
     "ename": "AttributeError",
     "evalue": "'Figure' object has no attribute 'close'",
     "output_type": "error",
     "traceback": [
      "\u001b[0;31m---------------------------------------------------------------------------\u001b[0m",
      "\u001b[0;31mAttributeError\u001b[0m                            Traceback (most recent call last)",
      "\u001b[0;32m<ipython-input-192-1e4698d363f0>\u001b[0m in \u001b[0;36m<module>\u001b[0;34m()\u001b[0m\n\u001b[0;32m----> 1\u001b[0;31m \u001b[0mfig\u001b[0m\u001b[0;34m.\u001b[0m\u001b[0mclose\u001b[0m\u001b[0;34m(\u001b[0m\u001b[0;34m)\u001b[0m\u001b[0;34m\u001b[0m\u001b[0m\n\u001b[0m",
      "\u001b[0;31mAttributeError\u001b[0m: 'Figure' object has no attribute 'close'"
     ]
    }
   ],
   "source": []
  },
  {
   "cell_type": "code",
   "execution_count": null,
   "metadata": {},
   "outputs": [],
   "source": []
  }
 ],
 "metadata": {
  "kernelspec": {
   "display_name": "Python 2",
   "language": "python",
   "name": "python2"
  },
  "language_info": {
   "codemirror_mode": {
    "name": "ipython",
    "version": 2
   },
   "file_extension": ".py",
   "mimetype": "text/x-python",
   "name": "python",
   "nbconvert_exporter": "python",
   "pygments_lexer": "ipython2",
   "version": "2.7.11"
  }
 },
 "nbformat": 4,
 "nbformat_minor": 2
}
