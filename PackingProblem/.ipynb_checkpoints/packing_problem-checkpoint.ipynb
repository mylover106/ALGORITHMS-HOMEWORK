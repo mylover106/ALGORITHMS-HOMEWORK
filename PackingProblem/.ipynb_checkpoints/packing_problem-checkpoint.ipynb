{
 "cells": [
  {
   "cell_type": "code",
   "execution_count": 14,
   "metadata": {},
   "outputs": [],
   "source": [
    "from __future__ import division\n",
    "from io import open\n",
    "import sys\n",
    "import time"
   ]
  },
  {
   "cell_type": "code",
   "execution_count": 2,
   "metadata": {},
   "outputs": [],
   "source": [
    "# 在python中多级结构不要用列表"
   ]
  },
  {
   "cell_type": "code",
   "execution_count": 8,
   "metadata": {},
   "outputs": [],
   "source": [
    "import numpy as np\n",
    "import random\n",
    "import matplotlib.pyplot as plt"
   ]
  },
  {
   "cell_type": "code",
   "execution_count": 4,
   "metadata": {},
   "outputs": [],
   "source": [
    "%matplotlib inline"
   ]
  },
  {
   "cell_type": "code",
   "execution_count": 77,
   "metadata": {},
   "outputs": [],
   "source": [
    "class CutMethod(object):\n",
    "    ROTATION = True\n",
    "    NOT_ROTAION = False\n",
    "    AS_WIDTH = True\n",
    "    AS_LENGTH = False\n",
    "    \n",
    "    def __init__(self, space, blocks, cut_method=None):\n",
    "        self.spaces = [space]\n",
    "        self.blocks = blocks\n",
    "        \n",
    "        if bool(cut_method) == False:\n",
    "            self.DNAs = []\n",
    "            \n",
    "            DNA = [[], [], []]\n",
    "            for i in range(len(blocks)):\n",
    "                DNA[0].append(i)\n",
    "                DNA[1].append(self.AS_WIDTH)\n",
    "                DNA[2].append(self.NOT_ROTAION)\n",
    "            self.DNAs.append(DNA)\n",
    "            \n",
    "            DNA = [[], [], []]\n",
    "            for i in range(len(blocks)):\n",
    "                DNA[0].append(i)\n",
    "                DNA[1].append(self.AS_LENGTH)\n",
    "                DNA[2].append(self.ROTATION)\n",
    "            self.DNAs.append(DNA)\n",
    "    \n",
    "    def cut_block(self, block, spaces):\n",
    "        blocks = self.blocks    \n",
    "        split_method = block[1]\n",
    "        rotation = block[2]\n",
    "        # if rotation w and l need to exchange their value\n",
    "        w, l = blocks[block[0]] if rotation == self.NOT_ROTAION else blocks[block[0]][::-1]\n",
    "        \n",
    "        loc = None\n",
    "        for it, space in enumerate(spaces):\n",
    "            W, L, x, y = space\n",
    "            \n",
    "            if w <= W and l <= L:\n",
    "                loc = (x, y)\n",
    "                \n",
    "                if split_method == self.AS_WIDTH:\n",
    "                    s1 = (W, L-l) + (x, y+l) # x is the W dim loc and y is the L dim loc\n",
    "                    s2 = (W-w, l) + (x+w, y)\n",
    "                    spaces[it:it+1] = [s1, s2]\n",
    "                \n",
    "                else:\n",
    "                    s1 = (W-w, L) + (x+w, y)\n",
    "                    s2 = (w, L-l) + (x, y+l)\n",
    "                    spaces[it:it+1] = [s1, s2]\n",
    "                \n",
    "                break\n",
    "                \n",
    "        new_spaces = []\n",
    "        \n",
    "        for x in spaces:\n",
    "            if x[0] != 0 and x[1] != 0:\n",
    "                new_spaces.append(x)\n",
    "        \n",
    "        return new_spaces, loc # spaces should delete blocks which's dim is 0\n",
    "    \n",
    "    def evalue(self, DNA):\n",
    "        \n",
    "        spaces = self.spaces[:]\n",
    "        spaces[0] += (0, 0)\n",
    "        loc = [None]*len(self.blocks)\n",
    "        \n",
    "        DNA = [(x, y, z) for x,y,z in zip(DNA[0],DNA[1],DNA[2])] # nothing special don't mind\n",
    "        \n",
    "        for it, block in enumerate(DNA):\n",
    "            spaces, loc[it] = self.cut_block(block, spaces)\n",
    "        \n",
    "        \n",
    "        left_area = sum([x*y for x, y, _, _ in spaces])\n",
    "        return left_area, spaces, loc\n",
    "    \n",
    "    \n",
    "    def get_next_generation(self, n=10):\n",
    "        DNAs = self.DNAs\n",
    "        \n",
    "        alive_DNAs = self.select_individual(DNAs[:])\n",
    "        new_DNAs = self.mutation(alive_DNAs[:]) + self.sexual(alive_DNAs[:])\n",
    "        \n",
    "        self.DNAs = alive_DNAs + new_DNAs\n",
    "        self.delete_same()\n",
    "    \n",
    "    def select_individual(self, DNAs, n=10, prob=0.4):\n",
    "        evalue = self.evalue\n",
    "\n",
    "        compare = lambda x, y: int(evalue(x)[0] > evalue(y)[0]) - 1\n",
    "        \n",
    "        DNAs = sorted(DNAs, compare)\n",
    "#         for i, dna in enumerate(DNAs):\n",
    "#             print evalue(dna)[0]\n",
    "#             if i == 0:\n",
    "#                 break\n",
    "        print evalue(DNAs[0])[0],     \n",
    "        must_alive = DNAs[:n]\n",
    "        \n",
    "        bad_DNA = []\n",
    "        for DNA in DNAs[n:]:\n",
    "            if random.random() < prob:\n",
    "                bad_DNA.append(DNA)\n",
    "        \n",
    "        return must_alive + bad_DNA\n",
    "        \n",
    "    def mutation(self, DNAs, prob=0.55):\n",
    "        # copy DNAs\n",
    "        for i in range(len(DNAs)):\n",
    "            DNAs[i] = DNAs[i][:]\n",
    "            for j in range(len(DNAs[i])):\n",
    "                DNAs[i][j] = DNAs[i][j][:]\n",
    "        \n",
    "        \n",
    "        _range = range(len(DNAs[0][0]))\n",
    "        for i in range(len(DNAs)):\n",
    "            if random.random() < prob:\n",
    "                k, j = random.sample(_range, 2)\n",
    "                DNAs[i][0][k], DNAs[i][0][j]= DNAs[i][0][j], DNAs[i][0][k] \n",
    "                \n",
    "            for it in range(len(DNAs[i][0])):\n",
    "                if random.random() < prob:\n",
    "                    DNAs[i][1][it] = not DNAs[i][1][it]\n",
    "                    \n",
    "                if random.random() < prob:\n",
    "                    DNAs[i][2][it] = not DNAs[i][2][it]\n",
    "        \n",
    "        return DNAs\n",
    "    \n",
    "    def sexual(self, DNAs):\n",
    "        \n",
    "        for i in range(len(DNAs)):\n",
    "            DNAs[i] = DNAs[i][:]\n",
    "            for j in range(len(DNAs[i])):\n",
    "                DNAs[i][j] = DNAs[i][j][:]\n",
    "        \n",
    "        \n",
    "        _range = range(len(DNAs[0][0]))\n",
    "        n = len(DNAs)\n",
    "        select_num = int(n/4)\n",
    "        \n",
    "        sex_DNAs = random.sample(DNAs, select_num)\n",
    "        \n",
    "        if bool(sex_DNAs) == False:\n",
    "            return []\n",
    "        \n",
    "        new_DNAs = []\n",
    "        for DNA in DNAs:\n",
    "            \n",
    "            DNA2 = random.choice(sex_DNAs)\n",
    "            index = random.choice(_range)\n",
    "            \n",
    "            g1 = DNA[0][index]\n",
    "            g2 = DNA2[0][index]\n",
    "            \n",
    "            for i in range(len(DNA[0])):\n",
    "                if DNA[0][i] == g2:\n",
    "                    DNA[0][i] = DNA[0][index]\n",
    "                    DNA[1][i] = DNA[1][index]\n",
    "                    DNA[2][i] = DNA[2][index]\n",
    "                    break\n",
    "                    \n",
    "            for i in range(len(DNA2[0])):\n",
    "                if DNA2[0][i] == g1:\n",
    "                    DNA2[0][i] = DNA2[0][index]\n",
    "                    DNA2[1][i] = DNA2[1][index]\n",
    "                    DNA2[2][i] = DNA2[2][index]\n",
    "                    break\n",
    "            \n",
    "            DNA[0][index], DNA2[0][index] = DNA2[0][index], DNA[0][index]\n",
    "            DNA[1][index], DNA2[1][index] = DNA2[1][index], DNA[1][index]\n",
    "            DNA[2][index], DNA2[2][index] = DNA2[2][index], DNA[2][index]\n",
    "            \n",
    "            new_DNAs.append(DNA)\n",
    "            new_DNAs.append(DNA2)\n",
    "        \n",
    "        return new_DNAs\n",
    "    \n",
    "    def delete_same(self):\n",
    "        DNAs = self.DNAs\n",
    "        \n",
    "        new_DNAs = []\n",
    "        for i in DNAs:\n",
    "            if i not in new_DNAs:\n",
    "                new_DNAs.append(i)\n",
    "                \n",
    "        DNAs[:] = new_DNAs[:]\n",
    "        \n",
    "    def plot(self, k):\n",
    "        left, s, loc =  packing.evalue(packing.DNAs[k])\n",
    "        \n",
    "        color = range(len(loc))\n",
    "        random.shuffle(color)\n",
    "        \n",
    "        pi = np.zeros((20,20))\n",
    "        for i, d in enumerate(packing.DNAs[k][0]):\n",
    "            if loc[i] != None:\n",
    "                x, y = loc[i]\n",
    "                \n",
    "            else:\n",
    "                continue\n",
    "                \n",
    "            w,l = packing.blocks[d] if packing.DNAs[k][2][i] == self.NOT_ROTAION else packing.blocks[d][::-1]\n",
    "            print w,l\n",
    "            \n",
    "            for t in range(x,x+w):\n",
    "                for j in range(y,y+l):\n",
    "                    pi[t][j] = color[i]\n",
    "        plt.imshow(pi)\n",
    "        plt.show()"
   ]
  },
  {
   "cell_type": "code",
   "execution_count": 78,
   "metadata": {},
   "outputs": [
    {
     "name": "stdout",
     "output_type": "stream",
     "text": [
      "[(2, 12), (7, 12), (8, 6), (3, 6), (3, 5), (5, 5), (3, 12), (3, 7), (5, 7), (2, 6), (3, 2), (4, 2), (3, 4), (4, 4), (9, 2), (11, 2)]\n",
      "[(7, 12), (4, 2), (5, 7), (2, 6), (8, 6), (9, 2), (3, 7), (3, 5), (2, 12), (5, 5), (11, 2), (3, 12), (3, 4), (3, 2), (3, 6), (4, 4)]\n"
     ]
    }
   ],
   "source": [
    "lst = []\n",
    "with open('lw161.txt') as f:\n",
    "    lst = f.readlines()\n",
    "    lst = [i.strip().split() for i in lst]\n",
    "    lst = [(int(x[0]), int (x[1])) for x in lst]\n",
    "    print lst\n",
    "random.shuffle(lst)\n",
    "print lst"
   ]
  },
  {
   "cell_type": "code",
   "execution_count": 79,
   "metadata": {},
   "outputs": [],
   "source": [
    "packing = CutMethod((20, 20), lst)"
   ]
  },
  {
   "cell_type": "code",
   "execution_count": 80,
   "metadata": {},
   "outputs": [],
   "source": [
    "# for i in range(10):\n",
    "#     packing.get_next_generation()"
   ]
  },
  {
   "cell_type": "code",
   "execution_count": 81,
   "metadata": {},
   "outputs": [
    {
     "name": "stdout",
     "output_type": "stream",
     "text": [
      "[[0, 1, 2, 3, 4, 5, 6, 7, 8, 9, 10, 11, 12, 13, 14, 15], [True, True, True, True, True, True, True, True, True, True, True, True, True, True, True, True], [False, False, False, False, False, False, False, False, False, False, False, False, False, False, False, False]]\n",
      "[[0, 1, 2, 3, 4, 5, 6, 7, 8, 9, 10, 11, 12, 13, 14, 15], [False, False, False, False, False, False, False, False, False, False, False, False, False, False, False, False], [True, True, True, True, True, True, True, True, True, True, True, True, True, True, True, True]]\n"
     ]
    }
   ],
   "source": [
    "for i in packing.DNAs:\n",
    "    print i"
   ]
  },
  {
   "cell_type": "code",
   "execution_count": 82,
   "metadata": {
    "scrolled": false
   },
   "outputs": [
    {
     "name": "stdout",
     "output_type": "stream",
     "text": [
      "420.827978\n",
      "60 60 60 58 34 34 34 34 34 34 34 33 33 33 33 33 33 33 33 30 30 30 30 30 27 27 22 22 22 18 18"
     ]
    },
    {
     "ename": "KeyboardInterrupt",
     "evalue": "",
     "output_type": "error",
     "traceback": [
      "\u001b[0;31m---------------------------------------------------------------------------\u001b[0m",
      "\u001b[0;31mKeyboardInterrupt\u001b[0m                         Traceback (most recent call last)",
      "\u001b[0;32m<ipython-input-82-1cd9d07803cb>\u001b[0m in \u001b[0;36m<module>\u001b[0;34m()\u001b[0m\n\u001b[1;32m      2\u001b[0m \u001b[0mdata\u001b[0m \u001b[0;34m=\u001b[0m \u001b[0;34m[\u001b[0m\u001b[0;34m]\u001b[0m\u001b[0;34m\u001b[0m\u001b[0m\n\u001b[1;32m      3\u001b[0m \u001b[0;32mfor\u001b[0m \u001b[0mi\u001b[0m \u001b[0;32min\u001b[0m \u001b[0mrange\u001b[0m\u001b[0;34m(\u001b[0m\u001b[0;36m2000\u001b[0m\u001b[0;34m)\u001b[0m\u001b[0;34m:\u001b[0m\u001b[0;34m\u001b[0m\u001b[0m\n\u001b[0;32m----> 4\u001b[0;31m     \u001b[0mpacking\u001b[0m\u001b[0;34m.\u001b[0m\u001b[0mget_next_generation\u001b[0m\u001b[0;34m(\u001b[0m\u001b[0;34m)\u001b[0m\u001b[0;34m\u001b[0m\u001b[0m\n\u001b[0m\u001b[1;32m      5\u001b[0m \u001b[0;32mprint\u001b[0m \u001b[0mtime\u001b[0m\u001b[0;34m.\u001b[0m\u001b[0mclock\u001b[0m\u001b[0;34m(\u001b[0m\u001b[0;34m)\u001b[0m\u001b[0;34m\u001b[0m\u001b[0m\n",
      "\u001b[0;32m<ipython-input-77-906b5dc21494>\u001b[0m in \u001b[0;36mget_next_generation\u001b[0;34m(self, n)\u001b[0m\n\u001b[1;32m     83\u001b[0m \u001b[0;34m\u001b[0m\u001b[0m\n\u001b[1;32m     84\u001b[0m         \u001b[0mself\u001b[0m\u001b[0;34m.\u001b[0m\u001b[0mDNAs\u001b[0m \u001b[0;34m=\u001b[0m \u001b[0malive_DNAs\u001b[0m \u001b[0;34m+\u001b[0m \u001b[0mnew_DNAs\u001b[0m\u001b[0;34m\u001b[0m\u001b[0m\n\u001b[0;32m---> 85\u001b[0;31m         \u001b[0mself\u001b[0m\u001b[0;34m.\u001b[0m\u001b[0mdelete_same\u001b[0m\u001b[0;34m(\u001b[0m\u001b[0;34m)\u001b[0m\u001b[0;34m\u001b[0m\u001b[0m\n\u001b[0m\u001b[1;32m     86\u001b[0m \u001b[0;34m\u001b[0m\u001b[0m\n\u001b[1;32m     87\u001b[0m     \u001b[0;32mdef\u001b[0m \u001b[0mselect_individual\u001b[0m\u001b[0;34m(\u001b[0m\u001b[0mself\u001b[0m\u001b[0;34m,\u001b[0m \u001b[0mDNAs\u001b[0m\u001b[0;34m,\u001b[0m \u001b[0mn\u001b[0m\u001b[0;34m=\u001b[0m\u001b[0;36m10\u001b[0m\u001b[0;34m,\u001b[0m \u001b[0mprob\u001b[0m\u001b[0;34m=\u001b[0m\u001b[0;36m0.4\u001b[0m\u001b[0;34m)\u001b[0m\u001b[0;34m:\u001b[0m\u001b[0;34m\u001b[0m\u001b[0m\n",
      "\u001b[0;32m<ipython-input-77-906b5dc21494>\u001b[0m in \u001b[0;36mdelete_same\u001b[0;34m(self)\u001b[0m\n\u001b[1;32m    182\u001b[0m         \u001b[0mnew_DNAs\u001b[0m \u001b[0;34m=\u001b[0m \u001b[0;34m[\u001b[0m\u001b[0;34m]\u001b[0m\u001b[0;34m\u001b[0m\u001b[0m\n\u001b[1;32m    183\u001b[0m         \u001b[0;32mfor\u001b[0m \u001b[0mi\u001b[0m \u001b[0;32min\u001b[0m \u001b[0mDNAs\u001b[0m\u001b[0;34m:\u001b[0m\u001b[0;34m\u001b[0m\u001b[0m\n\u001b[0;32m--> 184\u001b[0;31m             \u001b[0;32mif\u001b[0m \u001b[0mi\u001b[0m \u001b[0;32mnot\u001b[0m \u001b[0;32min\u001b[0m \u001b[0mnew_DNAs\u001b[0m\u001b[0;34m:\u001b[0m\u001b[0;34m\u001b[0m\u001b[0m\n\u001b[0m\u001b[1;32m    185\u001b[0m                 \u001b[0mnew_DNAs\u001b[0m\u001b[0;34m.\u001b[0m\u001b[0mappend\u001b[0m\u001b[0;34m(\u001b[0m\u001b[0mi\u001b[0m\u001b[0;34m)\u001b[0m\u001b[0;34m\u001b[0m\u001b[0m\n\u001b[1;32m    186\u001b[0m \u001b[0;34m\u001b[0m\u001b[0m\n",
      "\u001b[0;31mKeyboardInterrupt\u001b[0m: "
     ]
    }
   ],
   "source": [
    "print time.clock()\n",
    "data = []\n",
    "for i in range(2000):\n",
    "    packing.get_next_generation()\n",
    "print time.clock()"
   ]
  },
  {
   "cell_type": "code",
   "execution_count": 76,
   "metadata": {
    "scrolled": false
   },
   "outputs": [
    {
     "name": "stdout",
     "output_type": "stream",
     "text": [
      "8 6\n",
      "5 5\n",
      "12 7\n",
      "2 4\n",
      "11 2\n",
      "3 5\n",
      "3 6\n",
      "12 3\n",
      "7 3\n",
      "7 5\n",
      "4 4\n",
      "9 2\n",
      "12 2\n",
      "2 3\n",
      "2 6\n"
     ]
    },
    {
     "data": {
      "image/png": "[encoded data removed]",
      "text/plain": [
       "<matplotlib.figure.Figure at 0x7f1480145510>"
      ]
     },
     "metadata": {},
     "output_type": "display_data"
    },
    {
     "name": "stdout",
     "output_type": "stream",
     "text": [
      "8 6\n",
      "5 5\n",
      "12 7\n",
      "7 3\n",
      "11 2\n",
      "3 5\n",
      "3 6\n",
      "12 3\n",
      "2 4\n",
      "7 5\n",
      "4 4\n",
      "2 6\n",
      "12 2\n",
      "2 3\n",
      "9 2\n"
     ]
    },
    {
     "data": {
      "image/png": "[encoded data removed]",
      "text/plain": [
       "<matplotlib.figure.Figure at 0x7f14ac458350>"
      ]
     },
     "metadata": {},
     "output_type": "display_data"
    },
    {
     "name": "stdout",
     "output_type": "stream",
     "text": [
      "8 6\n",
      "5 5\n",
      "12 7\n",
      "2 4\n",
      "11 2\n",
      "3 5\n",
      "3 6\n",
      "12 3\n",
      "7 3\n",
      "7 5\n",
      "4 4\n",
      "2 6\n",
      "9 2\n",
      "12 2\n",
      "2 3\n"
     ]
    },
    {
     "data": {
      "image/png": "[encoded data removed]",
      "text/plain": [
       "<matplotlib.figure.Figure at 0x7f148023fd50>"
      ]
     },
     "metadata": {},
     "output_type": "display_data"
    },
    {
     "name": "stdout",
     "output_type": "stream",
     "text": [
      "8 6\n",
      "5 5\n",
      "12 7\n",
      "2 4\n",
      "11 2\n",
      "3 5\n",
      "4 4\n",
      "12 3\n",
      "7 3\n",
      "7 5\n",
      "3 6\n",
      "2 3\n",
      "12 2\n",
      "2 6\n",
      "9 2\n"
     ]
    },
    {
     "data": {
      "image/png": "[encoded data removed]",
      "text/plain": [
       "<matplotlib.figure.Figure at 0x7f14802cdb10>"
      ]
     },
     "metadata": {},
     "output_type": "display_data"
    },
    {
     "name": "stdout",
     "output_type": "stream",
     "text": [
      "8 6\n",
      "5 5\n",
      "12 7\n",
      "7 3\n",
      "11 2\n",
      "3 5\n",
      "3 6\n",
      "12 3\n",
      "2 4\n",
      "7 5\n",
      "4 4\n",
      "2 6\n",
      "2 3\n",
      "12 2\n",
      "9 2\n"
     ]
    },
    {
     "data": {
      "image/png": "[encoded data removed]",
      "text/plain": [
       "<matplotlib.figure.Figure at 0x7f14807c3f50>"
      ]
     },
     "metadata": {},
     "output_type": "display_data"
    },
    {
     "name": "stdout",
     "output_type": "stream",
     "text": [
      "8 6\n",
      "5 5\n",
      "12 7\n",
      "7 3\n",
      "11 2\n",
      "3 5\n",
      "3 6\n",
      "12 3\n",
      "2 4\n",
      "7 5\n",
      "4 4\n",
      "9 2\n",
      "12 2\n",
      "2 3\n",
      "2 6\n"
     ]
    },
    {
     "data": {
      "image/png": "[encoded data removed]",
      "text/plain": [
       "<matplotlib.figure.Figure at 0x7f1480578110>"
      ]
     },
     "metadata": {},
     "output_type": "display_data"
    },
    {
     "name": "stdout",
     "output_type": "stream",
     "text": [
      "8 6\n",
      "5 5\n",
      "12 7\n",
      "7 3\n",
      "11 2\n",
      "3 5\n",
      "2 4\n",
      "12 3\n",
      "3 6\n",
      "7 5\n",
      "4 4\n",
      "2 6\n",
      "12 2\n",
      "2 3\n",
      "9 2\n"
     ]
    },
    {
     "data": {
      "image/png": "[encoded data removed]",
      "text/plain": [
       "<matplotlib.figure.Figure at 0x7f148914cf50>"
      ]
     },
     "metadata": {},
     "output_type": "display_data"
    },
    {
     "name": "stdout",
     "output_type": "stream",
     "text": [
      "8 6\n",
      "5 5\n",
      "12 7\n",
      "2 4\n",
      "11 2\n",
      "3 5\n",
      "3 6\n",
      "12 3\n",
      "7 3\n",
      "7 5\n",
      "4 4\n",
      "2 3\n",
      "12 2\n",
      "2 6\n",
      "9 2\n"
     ]
    },
    {
     "data": {
      "image/png": "[encoded data removed]",
      "text/plain": [
       "<matplotlib.figure.Figure at 0x7f14802bf310>"
      ]
     },
     "metadata": {},
     "output_type": "display_data"
    },
    {
     "name": "stdout",
     "output_type": "stream",
     "text": [
      "2 6\n",
      "5 5\n",
      "12 7\n",
      "7 3\n",
      "11 2\n",
      "3 5\n",
      "3 6\n",
      "12 3\n",
      "2 4\n",
      "7 5\n",
      "4 4\n",
      "8 6\n",
      "12 2\n",
      "2 3\n",
      "9 2\n"
     ]
    },
    {
     "data": {
      "image/png": "[encoded data removed]",
      "text/plain": [
       "<matplotlib.figure.Figure at 0x7f14801ac990>"
      ]
     },
     "metadata": {},
     "output_type": "display_data"
    },
    {
     "name": "stdout",
     "output_type": "stream",
     "text": [
      "8 6\n",
      "5 5\n",
      "12 7\n",
      "7 3\n",
      "11 2\n",
      "3 5\n",
      "2 4\n",
      "12 3\n",
      "3 6\n",
      "7 5\n",
      "4 4\n",
      "2 6\n",
      "12 2\n",
      "2 3\n",
      "9 2\n"
     ]
    },
    {
     "data": {
      "image/png": "[encoded data removed]",
      "text/plain": [
       "<matplotlib.figure.Figure at 0x7f1480165310>"
      ]
     },
     "metadata": {},
     "output_type": "display_data"
    }
   ],
   "source": [
    "for i in range(10):\n",
    "    packing.plot(i)"
   ]
  },
  {
   "cell_type": "code",
   "execution_count": 145,
   "metadata": {},
   "outputs": [
    {
     "name": "stdout",
     "output_type": "stream",
     "text": [
      "(0, 0) (3, 6) False\n",
      "3 6\n",
      "(0, 6) (7, 12) False\n",
      "7 12\n",
      "(7, 6) (5, 7) False\n",
      "5 7\n",
      "(12, 6) (3, 7) False\n",
      "3 7\n",
      "(0, 18) (11, 2) False\n",
      "11 2\n",
      "(15, 6) (3, 12) False\n",
      "3 12\n",
      "(18, 6) (2, 12) False\n",
      "2 12\n",
      "(3, 0) (8, 6) False\n",
      "8 6\n",
      "(12, 13) (3, 5) False\n",
      "3 5\n",
      "(7, 13) (5, 5) True\n",
      "5 5\n",
      "(11, 0) (3, 4) False\n",
      "3 4\n",
      "(14, 0) (4, 4) True\n",
      "4 4\n",
      "(11, 18) (9, 2) False\n",
      "9 2\n",
      "(18, 0) (4, 2) True\n",
      "2 4\n",
      "(11, 4) (3, 2) False\n",
      "3 2\n",
      "(14, 4) (2, 6) True\n",
      "6 2\n",
      "0\n"
     ]
    },
    {
     "data": {
      "image/png": "[encoded data removed]",
      "text/plain": [
       "<matplotlib.figure.Figure at 0x7f5d385213d0>"
      ]
     },
     "metadata": {},
     "output_type": "display_data"
    }
   ],
   "source": [
    "left, s, loc =  packing.evalue(packing.DNAs[6])\n",
    "\n",
    "pi = np.zeros((20,20))\n",
    "for i,d in enumerate(packing.DNAs[0][0]):\n",
    "    print loc[i],packing.blocks[d],packing.DNAs[0][2][i]\n",
    "    if loc[i] != None:\n",
    "        x,y = loc[i]\n",
    "    else:\n",
    "        continue\n",
    "    w,l = packing.blocks[d] if packing.DNAs[0][2][i] == False else packing.blocks[d][::-1]\n",
    "    print w,l\n",
    "    for t in range(x,x+w):\n",
    "        for j in range(y,y+l):\n",
    "            pi[t][j] = i+2\n",
    "plt.imshow(pi)\n",
    "print left"
   ]
  },
  {
   "cell_type": "code",
   "execution_count": 138,
   "metadata": {},
   "outputs": [
    {
     "data": {
      "text/plain": [
       "([[0, 1, 2, 3, 12, 5, 6, 7, 4, 15, 11, 9, 13, 10, 14, 8],\n",
       "  [True,\n",
       "   True,\n",
       "   False,\n",
       "   False,\n",
       "   False,\n",
       "   True,\n",
       "   True,\n",
       "   False,\n",
       "   False,\n",
       "   False,\n",
       "   True,\n",
       "   False,\n",
       "   False,\n",
       "   True,\n",
       "   True,\n",
       "   False],\n",
       "  [False,\n",
       "   False,\n",
       "   False,\n",
       "   False,\n",
       "   False,\n",
       "   False,\n",
       "   False,\n",
       "   False,\n",
       "   False,\n",
       "   False,\n",
       "   False,\n",
       "   True,\n",
       "   True,\n",
       "   False,\n",
       "   False,\n",
       "   True]],\n",
       " [[0, 1, 2, 3, 12, 5, 6, 7, 4, 15, 11, 13, 10, 9, 14, 8],\n",
       "  [True,\n",
       "   True,\n",
       "   False,\n",
       "   False,\n",
       "   False,\n",
       "   True,\n",
       "   True,\n",
       "   False,\n",
       "   False,\n",
       "   True,\n",
       "   True,\n",
       "   False,\n",
       "   True,\n",
       "   False,\n",
       "   True,\n",
       "   True],\n",
       "  [False,\n",
       "   False,\n",
       "   False,\n",
       "   False,\n",
       "   False,\n",
       "   False,\n",
       "   False,\n",
       "   False,\n",
       "   False,\n",
       "   True,\n",
       "   False,\n",
       "   True,\n",
       "   False,\n",
       "   True,\n",
       "   False,\n",
       "   True]])"
      ]
     },
     "execution_count": 138,
     "metadata": {},
     "output_type": "execute_result"
    }
   ],
   "source": [
    "packing.DNAs[2],packing.DNAs[0]"
   ]
  },
  {
   "cell_type": "code",
   "execution_count": 73,
   "metadata": {},
   "outputs": [
    {
     "name": "stdout",
     "output_type": "stream",
     "text": [
      "[False, False, True, False, True, False, True, False, True, True, False, False, True, True, True, False]\n",
      "[12, 11, 2, 8, 15, 9, 4, 7, 5, 14, 10, 0, 1, 13, 6, 3]\n"
     ]
    }
   ],
   "source": [
    "print packing.DNAs[0][2]\n",
    "print packing.DNAs[0][0]"
   ]
  },
  {
   "cell_type": "code",
   "execution_count": 74,
   "metadata": {},
   "outputs": [
    {
     "name": "stdout",
     "output_type": "stream",
     "text": [
      "0 (9, 2)\n",
      "1 (3, 2)\n",
      "2 (7, 12)\n",
      "3 (3, 5)\n",
      "4 (3, 12)\n",
      "5 (4, 2)\n",
      "6 (3, 4)\n",
      "7 (3, 6)\n",
      "8 (4, 4)\n",
      "9 (11, 2)\n",
      "10 (2, 6)\n",
      "11 (5, 5)\n",
      "12 (8, 6)\n",
      "13 (5, 7)\n",
      "14 (2, 12)\n",
      "15 (3, 7)\n"
     ]
    }
   ],
   "source": [
    "for i,data in enumerate(packing.blocks):\n",
    "    print i,data"
   ]
  },
  {
   "cell_type": "code",
   "execution_count": 18,
   "metadata": {},
   "outputs": [
    {
     "name": "stdout",
     "output_type": "stream",
     "text": [
      "(0, 0) (11, 2) False\n",
      "(0, 6) (11, 2) False\n",
      "(0, 8) (3, 6) True\n",
      "(6, 8) (11, 2) False\n",
      "(6, 10) (3, 6) True\n",
      "None (3, 6) True\n",
      "(11, 10) (3, 6) True\n",
      "(13, 10) (3, 6) True\n",
      "(13, 13) (11, 2) False\n",
      "(3, 0) (3, 6) True\n",
      "(13, 18) (11, 2) False\n",
      "(16, 13) (11, 2) True\n",
      "(0, 10) (3, 6) True\n",
      "None (3, 6) False\n",
      "(6, 15) (3, 6) False\n",
      "None (11, 2) True\n"
     ]
    }
   ],
   "source": [
    "for i, s in enumerate(loc):\n",
    "    print s, packing.blocks[packing.DNAs[0][1][i]], packing.DNAs[0][2][i]"
   ]
  },
  {
   "cell_type": "code",
   "execution_count": 312,
   "metadata": {},
   "outputs": [],
   "source": [
    "left, spaces, loc = packing.evalue(packing.DNAs[0][:])"
   ]
  }
 ],
 "metadata": {
  "kernelspec": {
   "display_name": "Python 2",
   "language": "python",
   "name": "python2"
  },
  "language_info": {
   "codemirror_mode": {
    "name": "ipython",
    "version": 2
   },
   "file_extension": ".py",
   "mimetype": "text/x-python",
   "name": "python",
   "nbconvert_exporter": "python",
   "pygments_lexer": "ipython2",
   "version": "2.7.11"
  }
 },
 "nbformat": 4,
 "nbformat_minor": 2
}
