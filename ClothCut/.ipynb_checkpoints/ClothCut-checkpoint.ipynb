{
 "cells": [
  {
   "cell_type": "code",
   "execution_count": 1,
   "metadata": {},
   "outputs": [],
   "source": [
    "%matplotlib inline"
   ]
  },
  {
   "cell_type": "code",
   "execution_count": 2,
   "metadata": {},
   "outputs": [],
   "source": [
    "import numpy as np\n",
    "import matplotlib.pyplot as plt\n",
    "from pprint import pprint"
   ]
  },
  {
   "cell_type": "code",
   "execution_count": 40,
   "metadata": {},
   "outputs": [],
   "source": [
    "Width = 100\n",
    "Size = [(50, 7), (29, 43), (30, 77), (10, 21)] # high first (high, width)\n",
    "Surface = [(0, 0)] # 0 represent the high of the surface and the 100 represent the width of the surface block"
   ]
  },
  {
   "cell_type": "code",
   "execution_count": 41,
   "metadata": {},
   "outputs": [],
   "source": [
    "def maxHigh(solve):\n",
    "    max_high = solve[-1][1][0][0] # solve[1][0] is the surface as the ans_structure\n",
    "    for h, _ in solve[-1][1]:\n",
    "        if max_high < h:\n",
    "            max_high = h\n",
    "    return max_high"
   ]
  },
  {
   "cell_type": "code",
   "execution_count": 42,
   "metadata": {},
   "outputs": [],
   "source": [
    "def selectBestSolve(solves):\n",
    "    bestSolve = solves[0]\n",
    "    for i in range(1,len(solves)):\n",
    "        if maxHigh(solves[i]) < maxHigh(bestSolve):\n",
    "            bestSolve = solves[i]\n",
    "    return bestSolve"
   ]
  },
  {
   "cell_type": "code",
   "execution_count": 43,
   "metadata": {},
   "outputs": [],
   "source": [
    "def updateSurface(nowSize, Surface, loc):\n",
    "    width = nowSize[1]\n",
    "    high = nowSize[0]\n",
    "#     print \"old\", Surface, loc, nowSize\n",
    "    for i in range(len(Surface)):\n",
    "        if Surface[i][1] == loc:\n",
    "            start_index = i\n",
    "        if Surface[i][1] <= loc + width:\n",
    "            end_index = i\n",
    "    plot_high = maxHigh([(0, Surface[start_index:end_index+1], 0)])\n",
    "    high += plot_high\n",
    "    newSurface = [(high, loc), (Surface[end_index][0], loc + width)]\n",
    "#     newSurface.extend(Surface[end_index+1:])\n",
    "    newSurface = Surface[:start_index] + newSurface + Surface[end_index + 1:]\n",
    "#     print \"newsurface\", newSurface\n",
    "    return newSurface, plot_high"
   ]
  },
  {
   "cell_type": "code",
   "execution_count": 44,
   "metadata": {},
   "outputs": [],
   "source": [
    "def recursiveCut(SizeList, nowSize, Surface, loc):\n",
    "    if len(SizeList) == 0:\n",
    "#         print Surface, loc\n",
    "        newSurface, plot_high = updateSurface(nowSize, Surface, loc)\n",
    "        return [[nowSize, newSurface, loc, plot_high]]\n",
    "    else:\n",
    "        nowSolves = []\n",
    "        newSurface, plot_high = updateSurface(nowSize, Surface, loc)\n",
    "        for s in range(len(SizeList)):\n",
    "            for _, next_loc in newSurface:\n",
    "#                 print _, next_loc\n",
    "                if Width - next_loc >= SizeList[s][1]:\n",
    "                    nowSolves.append(recursiveCut(SizeList[:s] + SizeList[s+1:], \n",
    "                                                 SizeList[s], newSurface, next_loc))\n",
    "#         print nowSolves\n",
    "        bestSolve = selectBestSolve(nowSolves)\n",
    "        bestSolve = [[nowSize, newSurface, loc, plot_high]] + bestSolve\n",
    "#         print \"bestSolve\", bestSolve\n",
    "        return bestSolve"
   ]
  },
  {
   "cell_type": "code",
   "execution_count": 45,
   "metadata": {},
   "outputs": [
    {
     "name": "stdout",
     "output_type": "stream",
     "text": [
      "[[(0, 0), [(0, 0), (0, 0)], 0, 0],\n",
      " [(50, 7), [(0, 0), (50, 0), (0, 7)], 0, 0],\n",
      " [(29, 43), [(0, 0), (50, 0), (29, 7), (0, 50)], 7, 0],\n",
      " [(10, 21), [(0, 0), (50, 0), (29, 7), (10, 50), (0, 71)], 50, 0],\n",
      " [(30, 77), [(0, 0), (50, 0), (59, 7), (0, 84)], 7, 29]]\n"
     ]
    }
   ],
   "source": [
    "ans = recursiveCut(Size, (0,0), Surface, 0)\n",
    "pprint(ans)"
   ]
  },
  {
   "cell_type": "code",
   "execution_count": 48,
   "metadata": {},
   "outputs": [],
   "source": [
    "def plotAns(ans, Width):\n",
    "    High = maxHigh(ans)\n",
    "    picture = np.ones((High, Width))\n",
    "    color = 20\n",
    "    for block in ans:\n",
    "        h, w = block[0][0], block[0][1]\n",
    "        plot_loc, plot_high = block[2], block[3]\n",
    "        for i in range(plot_loc, plot_loc + w):\n",
    "            for j in range(plot_high, plot_high + h):\n",
    "                picture[j][i] = color\n",
    "        color += 5\n",
    "    plt.imshow(picture)"
   ]
  },
  {
   "cell_type": "code",
   "execution_count": 49,
   "metadata": {},
   "outputs": [
    {
     "data": {
      "image/png": "[encoded data removed]",
      "text/plain": [
       "<matplotlib.figure.Figure at 0x7f52093df410>"
      ]
     },
     "metadata": {},
     "output_type": "display_data"
    }
   ],
   "source": [
    "plotAns(ans, Width)"
   ]
  },
  {
   "cell_type": "code",
   "execution_count": 10,
   "metadata": {},
   "outputs": [
    {
     "data": {
      "text/plain": [
       "'\\nansStructure\\n[\\n[Size, Surface, loc] // the Surface is the Surface that after added the nowSize\\n[],                  // loc is the left location the Size put down\\n[],\\n[],...[n]\\n]\\n'"
      ]
     },
     "execution_count": 10,
     "metadata": {},
     "output_type": "execute_result"
    }
   ],
   "source": [
    "\"\"\"\n",
    "ansStructure\n",
    "[\n",
    "[Size, Surface, plot_loc, plot_high] // the Surface is the Surface that after added the nowSize\n",
    "[],                  // loc is the left location the Size put down\n",
    "[],\n",
    "[],...[n]\n",
    "]\n",
    "\"\"\""
   ]
  }
 ],
 "metadata": {
  "kernelspec": {
   "display_name": "Python 2",
   "language": "python",
   "name": "python2"
  },
  "language_info": {
   "codemirror_mode": {
    "name": "ipython",
    "version": 2
   },
   "file_extension": ".py",
   "mimetype": "text/x-python",
   "name": "python",
   "nbconvert_exporter": "python",
   "pygments_lexer": "ipython2",
   "version": "2.7.11"
  }
 },
 "nbformat": 4,
 "nbformat_minor": 2
}
