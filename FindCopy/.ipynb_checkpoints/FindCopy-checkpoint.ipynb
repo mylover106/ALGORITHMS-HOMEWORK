{
 "cells": [
  {
   "cell_type": "code",
   "execution_count": 19,
   "metadata": {},
   "outputs": [],
   "source": [
    "from io import open\n",
    "import numpy as np"
   ]
  },
  {
   "cell_type": "code",
   "execution_count": 3,
   "metadata": {},
   "outputs": [],
   "source": [
    "from __future__ import division"
   ]
  },
  {
   "cell_type": "code",
   "execution_count": 30,
   "metadata": {},
   "outputs": [],
   "source": [
    "def get_list(filename1, filename2):\n",
    "    with open(filename1) as f:\n",
    "        l = f.read()\n",
    "        l = l.split()\n",
    "        list1 = l\n",
    "    with open(filename2) as f:\n",
    "        l = f.read()\n",
    "        l = l.split()\n",
    "        list2 = l\n",
    "    return list1, list2"
   ]
  },
  {
   "cell_type": "code",
   "execution_count": 31,
   "metadata": {},
   "outputs": [],
   "source": [
    "data = get_list('file1.cpp', 'file2.cpp')"
   ]
  },
  {
   "cell_type": "code",
   "execution_count": 32,
   "metadata": {},
   "outputs": [
    {
     "data": {
      "text/plain": [
       "[u'#include',\n",
       " u'<stdio.h>',\n",
       " u'#include',\n",
       " u'<iostream>',\n",
       " u'#include',\n",
       " u'<string>',\n",
       " u'#include',\n",
       " u'<vector>',\n",
       " u'using',\n",
       " u'namespace',\n",
       " u'std;',\n",
       " u'int',\n",
       " u'main()',\n",
       " u'{',\n",
       " u'printf(\"hello',\n",
       " u'world\");',\n",
       " u'return',\n",
       " u'0;',\n",
       " u'}']"
      ]
     },
     "execution_count": 32,
     "metadata": {},
     "output_type": "execute_result"
    }
   ],
   "source": [
    "data[0]"
   ]
  },
  {
   "cell_type": "code",
   "execution_count": 72,
   "metadata": {},
   "outputs": [],
   "source": [
    "def find_max_commen(seqs):\n",
    "    dp = np.zeros(\n",
    "        (len(seqs[0]), len(seqs[1])) \n",
    "    )\n",
    "    \n",
    "    for i in range(0, dp.shape[0]):\n",
    "        if seqs[0][i] == seqs[1][0]:\n",
    "            dp[i][0] = 1\n",
    "    \n",
    "    for j in range(0, dp.shape[1]):\n",
    "        if seqs[1][j] == seqs[0][0]:\n",
    "            dp[0][j] = 1\n",
    "    \n",
    "    for i in range(1, dp.shape[0]):\n",
    "        for j in range(1, dp.shape[1]):\n",
    "            if seqs[0][i] == seqs[1][j]:\n",
    "                dp[i][j] = max(dp[i-1][j-1]+1, dp[i][j-1], dp[i-1][j], dp[i][j])\n",
    "    \n",
    "    print max(dp.reshape(-1))\n",
    "    return max(dp.reshape(-1))"
   ]
  },
  {
   "cell_type": "code",
   "execution_count": 73,
   "metadata": {},
   "outputs": [
    {
     "name": "stdout",
     "output_type": "stream",
     "text": [
      "8.0\n"
     ]
    }
   ],
   "source": [
    "ssum = find_max_commen(data)"
   ]
  },
  {
   "cell_type": "code",
   "execution_count": 74,
   "metadata": {},
   "outputs": [
    {
     "data": {
      "text/plain": [
       "0.42105263157894735"
      ]
     },
     "execution_count": 74,
     "metadata": {},
     "output_type": "execute_result"
    }
   ],
   "source": [
    "ssum / len(data[0])"
   ]
  },
  {
   "cell_type": "code",
   "execution_count": 75,
   "metadata": {},
   "outputs": [
    {
     "data": {
      "text/plain": [
       "[u'#include',\n",
       " u'<stdio.h>',\n",
       " u'#include',\n",
       " u'<iostream>',\n",
       " u'#include',\n",
       " u'<string>',\n",
       " u'#include',\n",
       " u'<vector>',\n",
       " u'using',\n",
       " u'namespace',\n",
       " u'std;',\n",
       " u'int',\n",
       " u'main()',\n",
       " u'{',\n",
       " u'printf(\"hello',\n",
       " u'world\");',\n",
       " u'return',\n",
       " u'0;',\n",
       " u'}']"
      ]
     },
     "execution_count": 75,
     "metadata": {},
     "output_type": "execute_result"
    }
   ],
   "source": [
    "data[0]"
   ]
  },
  {
   "cell_type": "code",
   "execution_count": 76,
   "metadata": {},
   "outputs": [
    {
     "data": {
      "text/plain": [
       "[u'#include',\n",
       " u'<iostream>',\n",
       " u'#include',\n",
       " u'<string>',\n",
       " u'#include',\n",
       " u'<algorithm>',\n",
       " u'#include',\n",
       " u'<vector>',\n",
       " u'using',\n",
       " u'namespace',\n",
       " u'std;',\n",
       " u'int',\n",
       " u'main()',\n",
       " u'{',\n",
       " u'cout',\n",
       " u'<<',\n",
       " u'\"hello',\n",
       " u'world\"',\n",
       " u'<<',\n",
       " u'endl;',\n",
       " u'return',\n",
       " u';',\n",
       " u'}']"
      ]
     },
     "execution_count": 76,
     "metadata": {},
     "output_type": "execute_result"
    }
   ],
   "source": [
    "data[1]"
   ]
  },
  {
   "cell_type": "code",
   "execution_count": null,
   "metadata": {},
   "outputs": [],
   "source": []
  }
 ],
 "metadata": {
  "kernelspec": {
   "display_name": "Python 2",
   "language": "python",
   "name": "python2"
  },
  "language_info": {
   "codemirror_mode": {
    "name": "ipython",
    "version": 2
   },
   "file_extension": ".py",
   "mimetype": "text/x-python",
   "name": "python",
   "nbconvert_exporter": "python",
   "pygments_lexer": "ipython2",
   "version": "2.7.11"
  }
 },
 "nbformat": 4,
 "nbformat_minor": 2
}
