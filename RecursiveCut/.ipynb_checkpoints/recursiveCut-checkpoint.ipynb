{
 "cells": [
  {
   "cell_type": "code",
   "execution_count": 1,
   "metadata": {},
   "outputs": [],
   "source": [
    "%matplotlib inline"
   ]
  },
  {
   "cell_type": "code",
   "execution_count": 2,
   "metadata": {},
   "outputs": [],
   "source": [
    "from __future__ import division\n",
    "import matplotlib.pyplot as plt\n",
    "import numpy as np\n",
    "from pprint import pprint"
   ]
  },
  {
   "cell_type": "code",
   "execution_count": 3,
   "metadata": {},
   "outputs": [],
   "source": [
    "def plotAns(Ans, Map, color):\n",
    "    window = Ans[0][2]\n",
    "    if Ans[0][0] == 0 or Ans[0][1][0] == 0 or Ans[0][1][1] == 0:\n",
    "        return\n",
    "    for i in range(Ans[0][2][0]):\n",
    "        for j in range(Ans[0][2][1]):\n",
    "            Map[i][j] = color\n",
    "    if Ans[0][0] != 0:\n",
    "        if Ans[0][3] == AS_WIDTH:\n",
    "            plotAns(Ans[1], Map[window[0]:,:window[1]],color + 10)\n",
    "            plotAns(Ans[2], Map[:,window[1]:],color + 5)\n",
    "        else:\n",
    "            plotAns(Ans[1], Map[window[0]:,:], color + 10)\n",
    "            plotAns(Ans[2], Map[:window[0]:,window[1]:], color + 5)"
   ]
  },
  {
   "cell_type": "code",
   "execution_count": 4,
   "metadata": {},
   "outputs": [],
   "source": [
    "def selectBest(array):\n",
    "    best = array[0]\n",
    "    bestSum = best[0][0][0] + best[1][0][0]\n",
    "    for candidate in array:\n",
    "        if candidate[0][0][0] + candidate[1][0][0] > bestSum:\n",
    "            best = candidate\n",
    "            bestSum = best[0][0][0] + best[1][0][0]\n",
    "    return best, bestSum"
   ]
  },
  {
   "cell_type": "code",
   "execution_count": 5,
   "metadata": {},
   "outputs": [],
   "source": [
    "def compare(x, y):\n",
    "    if x[0] * x[1] < y[0] * y[1]:\n",
    "        return 1\n",
    "    else :\n",
    "        return -1"
   ]
  },
  {
   "cell_type": "code",
   "execution_count": 6,
   "metadata": {},
   "outputs": [],
   "source": [
    "def canCut(solve):\n",
    "    if solve[0][0][0] != 0 and solve[1][0][0] != 0:\n",
    "        return True\n",
    "    else:\n",
    "        return False"
   ]
  },
  {
   "cell_type": "code",
   "execution_count": 7,
   "metadata": {},
   "outputs": [],
   "source": [
    "def bestSolve(Width, High, window, asWhat):\n",
    "    nextSolves = []\n",
    "    if Width >= window[0] and High >= window[1]:\n",
    "        nowSolve = (window[0] * window[1], (Width, High), window, asWhat)\n",
    "        \n",
    "        if asWhat == AS_WIDTH:\n",
    "            newWidth = [Width - window[0], Width]\n",
    "            newHigh  = [window[1], High - window[1]]\n",
    "        else:\n",
    "            newWidth = [Width - window[0], window[0]]\n",
    "            newHigh  = [High, High - window[1]]\n",
    "        \n",
    "        for s in Sizes:\n",
    "            for k in Sizes:\n",
    "                for asNext in AS:\n",
    "                    nextSolves.append([\n",
    "                        bestSolve(newWidth[0], newHigh[0], s, asNext[0]),\n",
    "                        bestSolve(newWidth[1], newHigh[1], k, asNext[1])\n",
    "                    ])\n",
    "        \n",
    "        \n",
    "        bestNext, nextSum = selectBest(nextSolves)\n",
    "        \n",
    "        # update the nowSolve\n",
    "        nowSolve = (nowSolve[0] + nextSum, nowSolve[1], nowSolve[2], nowSolve[3])\n",
    "        nowSolve = [nowSolve, bestNext[0], bestNext[1]]\n",
    "        return nowSolve\n",
    "    else:\n",
    "        nowSolve = [(0, (Width, High), window, asWhat), [], []]\n",
    "        return nowSolve\n"
   ]
  },
  {
   "cell_type": "code",
   "execution_count": 17,
   "metadata": {},
   "outputs": [],
   "source": [
    "def lightSolve(Width, High, window, asWhat):\n",
    "    nextSolves = []\n",
    "    if Width >= window[0] and High >= window[1]:\n",
    "        nowSolve = (window[0] * window[1], (Width, High), window, asWhat)\n",
    "        \n",
    "        if asWhat == AS_WIDTH:\n",
    "            newWidth = [Width - window[0], Width]\n",
    "            newHigh  = [window[1], High - window[1]]\n",
    "        else:\n",
    "            newWidth = [Width - window[0], window[0]]\n",
    "            newHigh  = [High, High - window[1]]\n",
    "        \n",
    "        \n",
    "        win1 = (0, 0)\n",
    "        win2 = (0, 0)\n",
    "        for s in Sizes:\n",
    "            if s[0] <= newWidth[0] and s[1] <= newHigh[0]:\n",
    "                win1 = s\n",
    "                break\n",
    "        for s in Sizes:\n",
    "            if s[0] <= newWidth[1] and s[1] <= newHigh[1]:\n",
    "                win2 = s\n",
    "                break\n",
    "        \n",
    "        \n",
    "        if win1 != (0, 0):\n",
    "            temp1 = bestSolve(newWidth[0], newHigh[0], win1, False)\n",
    "        else:\n",
    "            temp1 = [(0, (Width, High), window, asWhat), [], []] \n",
    "        if win2 != (0, 0):\n",
    "            temp2 = bestSolve(newWidth[1], newHigh[1], win2, True)\n",
    "        else:\n",
    "            temp2 = [(0, (Width, High), window, asWhat), [], []]\n",
    "        \n",
    "        nextSolves.append([temp1, temp2])\n",
    "#         for s in Sizes:\n",
    "#             for asNext in AS:\n",
    "#                 nextSolves.append([\n",
    "#                     bestSolve(newWidth[0], newHigh[0], s, asNext[0]),\n",
    "#                     bestSolve(newWidth[1], newHigh[1], s, asNext[1])\n",
    "#                 ])\n",
    "        \n",
    "        \n",
    "        bestNext, nextSum = selectBest(nextSolves)\n",
    "        \n",
    "        # update the nowSolve\n",
    "        nowSolve = (nowSolve[0] + nextSum, nowSolve[1], nowSolve[2], nowSolve[3])\n",
    "        nowSolve = [nowSolve, bestNext[0], bestNext[1]]\n",
    "        return nowSolve\n",
    "    else:\n",
    "        nowSolve = [(0, (Width, High), window, asWhat), [], []]\n",
    "        return nowSolve\n"
   ]
  },
  {
   "cell_type": "code",
   "execution_count": 21,
   "metadata": {},
   "outputs": [
    {
     "name": "stdout",
     "output_type": "stream",
     "text": [
      "[(29, 54), (54, 29), (4, 4), (4, 4), (2, 1), (1, 2)]\n"
     ]
    },
    {
     "data": {
      "image/png": "[encoded data removed]",
      "text/plain": [
       "<matplotlib.figure.Figure at 0x7f67f072d550>"
      ]
     },
     "metadata": {},
     "output_type": "display_data"
    },
    {
     "name": "stdout",
     "output_type": "stream",
     "text": [
      "52.4 %\n"
     ]
    }
   ],
   "source": [
    "Width = 110\n",
    "High = 100\n",
    "\n",
    "Sizes = [(54, 29), (4, 4), (1, 2)] # pay attention\n",
    "Sizes.extend([(s[1], s[0]) for s in Sizes])\n",
    "Sizes.sort(compare)\n",
    "print Sizes\n",
    "# we need to range the Size, so we don't need to range the Map\n",
    "\n",
    "Map = np.ones((Width, High))\n",
    "maxUse = 0\n",
    "Ans = 0 # ans is the split picture of the program\n",
    "\n",
    "AS_WIDTH = True\n",
    "AS_HIGH  = False\n",
    "AS = [(True, False), (False, False), (True, True), (False, True)]\n",
    "\n",
    "    \n",
    "if len(Sizes) >= 6:\n",
    "    ans = lightSolve(Width, High, (0, 0), True)\n",
    "else:\n",
    "    ans = bestSolve(Width, High, (0,0), True)\n",
    "\n",
    "        \n",
    "plotAns(ans,Map,0)\n",
    "# pprint(ans)\n",
    "\n",
    "plt.imshow(Map)\n",
    "plt.show()\n",
    "print ans[0][0]/(Width * High) * 100 , \"%\""
   ]
  },
  {
   "cell_type": "code",
   "execution_count": null,
   "metadata": {},
   "outputs": [],
   "source": [
    "# ans structure\n",
    "\"\"\"\n",
    "[\n",
    "    (usage, nowSize, windowSize, True/False),\n",
    "    [\n",
    "        \n",
    "    ],\n",
    "    [\n",
    "        \n",
    "    ]\n",
    "]\n",
    "\"\"\""
   ]
  },
  {
   "cell_type": "code",
   "execution_count": 51,
   "metadata": {},
   "outputs": [],
   "source": [
    "lst = [1, 2, 3, 4]"
   ]
  },
  {
   "cell_type": "code",
   "execution_count": 52,
   "metadata": {},
   "outputs": [
    {
     "data": {
      "text/plain": [
       "4"
      ]
     },
     "execution_count": 52,
     "metadata": {},
     "output_type": "execute_result"
    }
   ],
   "source": [
    "lst[-1]"
   ]
  },
  {
   "cell_type": "code",
   "execution_count": 53,
   "metadata": {},
   "outputs": [
    {
     "data": {
      "text/plain": [
       "3"
      ]
     },
     "execution_count": 53,
     "metadata": {},
     "output_type": "execute_result"
    }
   ],
   "source": [
    "lst[-2]"
   ]
  },
  {
   "cell_type": "code",
   "execution_count": 54,
   "metadata": {},
   "outputs": [
    {
     "data": {
      "text/plain": [
       "2"
      ]
     },
     "execution_count": 54,
     "metadata": {},
     "output_type": "execute_result"
    }
   ],
   "source": [
    "lst[-3]"
   ]
  },
  {
   "cell_type": "code",
   "execution_count": 58,
   "metadata": {},
   "outputs": [
    {
     "ename": "SyntaxError",
     "evalue": "unexpected character after line continuation character (<ipython-input-58-d3ba72a4c71f>, line 1)",
     "output_type": "error",
     "traceback": [
      "\u001b[0;36m  File \u001b[0;32m\"<ipython-input-58-d3ba72a4c71f>\"\u001b[0;36m, line \u001b[0;32m1\u001b[0m\n\u001b[0;31m    if 0 or\\\u001b[0m\n\u001b[0m             ^\u001b[0m\n\u001b[0;31mSyntaxError\u001b[0m\u001b[0;31m:\u001b[0m unexpected character after line continuation character\n"
     ]
    }
   ],
   "source": [
    "if"
   ]
  }
 ],
 "metadata": {
  "kernelspec": {
   "display_name": "Python 2",
   "language": "python",
   "name": "python2"
  },
  "language_info": {
   "codemirror_mode": {
    "name": "ipython",
    "version": 2
   },
   "file_extension": ".py",
   "mimetype": "text/x-python",
   "name": "python",
   "nbconvert_exporter": "python",
   "pygments_lexer": "ipython2",
   "version": "2.7.11"
  }
 },
 "nbformat": 4,
 "nbformat_minor": 2
}
