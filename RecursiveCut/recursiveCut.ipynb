{
 "cells": [
  {
   "cell_type": "code",
   "execution_count": 1,
   "metadata": {},
   "outputs": [],
   "source": [
    "%matplotlib inline"
   ]
  },
  {
   "cell_type": "code",
   "execution_count": 2,
   "metadata": {},
   "outputs": [],
   "source": [
    "from __future__ import division\n",
    "import matplotlib.pyplot as plt\n",
    "import numpy as np\n",
    "from pprint import pprint"
   ]
  },
  {
   "cell_type": "code",
   "execution_count": 3,
   "metadata": {},
   "outputs": [],
   "source": [
    "def plotAns(Ans, Map, color):\n",
    "    window = Ans[0][2]\n",
    "    if Ans[0][0] == 0 or Ans[0][1][0] == 0 or Ans[0][1][1] == 0:\n",
    "        return\n",
    "    for i in range(Ans[0][2][0]):\n",
    "        for j in range(Ans[0][2][1]):\n",
    "            Map[i][j] = color\n",
    "    if Ans[0][0] != 0:\n",
    "        if Ans[0][3] == AS_WIDTH:\n",
    "            plotAns(Ans[1], Map[window[0]:,:window[1]],color + 10)\n",
    "            plotAns(Ans[2], Map[:,window[1]:],color + 5)\n",
    "        else:\n",
    "            plotAns(Ans[1], Map[window[0]:,:], color + 10)\n",
    "            plotAns(Ans[2], Map[:window[0]:,window[1]:], color + 5)"
   ]
  },
  {
   "cell_type": "code",
   "execution_count": 4,
   "metadata": {},
   "outputs": [],
   "source": [
    "def selectBest(array):\n",
    "    best = array[0]\n",
    "    bestSum = best[0][0][0] + best[1][0][0]\n",
    "    for candidate in array:\n",
    "        if candidate[0][0][0] + candidate[1][0][0] > bestSum:\n",
    "            best = candidate\n",
    "            bestSum = best[0][0][0] + best[1][0][0]\n",
    "    return best, bestSum"
   ]
  },
  {
   "cell_type": "code",
   "execution_count": 5,
   "metadata": {},
   "outputs": [],
   "source": [
    "def bestSolve(Width, High, window, asWhat):\n",
    "    nextSolves = []\n",
    "    if Width >= window[0] and High >= window[1]:\n",
    "        nowSolve = (window[0] * window[1], (Width, High), window, asWhat)\n",
    "        \n",
    "        if asWhat == AS_WIDTH:\n",
    "            newWidth = [Width - window[0], Width]\n",
    "            newHigh  = [window[1], High - window[1]]\n",
    "        else:\n",
    "            newWidth = [Width - window[0], window[0]]\n",
    "            newHigh  = [High, High - window[1]]\n",
    "        \n",
    "        for s in Sizes:\n",
    "            for asNext in AS:\n",
    "                nextSolves.append([\n",
    "                    bestSolve(newWidth[0], newHigh[0], s, asNext[0]),\n",
    "                    bestSolve(newWidth[1], newHigh[1], s, asNext[1])\n",
    "                ])\n",
    "        \n",
    "        \n",
    "        bestNext, nextSum = selectBest(nextSolves)\n",
    "        \n",
    "        # update the nowSolve\n",
    "        nowSolve = (nowSolve[0] + nextSum, nowSolve[1], nowSolve[2], nowSolve[3])\n",
    "        nowSolve = [nowSolve, bestNext[0], bestNext[1]]\n",
    "        return nowSolve\n",
    "    else:\n",
    "        nowSolve = [(0, (Width, High), window, asWhat), [], []]\n",
    "        return nowSolve"
   ]
  },
  {
   "cell_type": "code",
   "execution_count": 8,
   "metadata": {},
   "outputs": [
    {
     "data": {
      "image/png": "[encoded data removed]",
      "text/plain": [
       "<matplotlib.figure.Figure at 0x7f020833c3d0>"
      ]
     },
     "metadata": {},
     "output_type": "display_data"
    },
    {
     "name": "stdout",
     "output_type": "stream",
     "text": [
      "96.8909090909 %\n"
     ]
    }
   ],
   "source": [
    "Width = 110\n",
    "High = 100\n",
    "\n",
    "Sizes = [(54, 29), (70, 50), (30, 41)] # pay attention\n",
    "Sizes.extend([(s[1], s[0]) for s in Sizes])\n",
    "# we need to range the Size, so we don't need to range the Map\n",
    "\n",
    "Map = np.ones((Width, High))\n",
    "maxUse = 0\n",
    "Ans = 0 # ans is the split picture of the program\n",
    "\n",
    "AS_WIDTH = True\n",
    "AS_HIGH  = False\n",
    "AS = [(True, True), (False, False), (True, False), (False, True)]\n",
    "\n",
    "ans = bestSolve(Width, High, (0,0), True)\n",
    "plotAns(ans,Map,0)\n",
    "# pprint(ans)\n",
    "\n",
    "plt.imshow(Map)\n",
    "plt.show()\n",
    "print ans[0][0]/(Width * High) * 100 , \"%\""
   ]
  },
  {
   "cell_type": "code",
   "execution_count": 7,
   "metadata": {},
   "outputs": [
    {
     "data": {
      "text/plain": [
       "'\\n[\\n    (usage, nowSize, windowSize, True/False),\\n    [\\n        \\n    ],\\n    [\\n        \\n    ]\\n]\\n'"
      ]
     },
     "execution_count": 7,
     "metadata": {},
     "output_type": "execute_result"
    }
   ],
   "source": [
    "# ans structure\n",
    "\"\"\"\n",
    "[\n",
    "    (usage, nowSize, windowSize, True/False),\n",
    "    [\n",
    "        \n",
    "    ],\n",
    "    [\n",
    "        \n",
    "    ]\n",
    "]\n",
    "\"\"\""
   ]
  },
  {
   "cell_type": "code",
   "execution_count": null,
   "metadata": {},
   "outputs": [],
   "source": []
  }
 ],
 "metadata": {
  "kernelspec": {
   "display_name": "Python 2",
   "language": "python",
   "name": "python2"
  },
  "language_info": {
   "codemirror_mode": {
    "name": "ipython",
    "version": 2
   },
   "file_extension": ".py",
   "mimetype": "text/x-python",
   "name": "python",
   "nbconvert_exporter": "python",
   "pygments_lexer": "ipython2",
   "version": "2.7.11"
  }
 },
 "nbformat": 4,
 "nbformat_minor": 2
}
